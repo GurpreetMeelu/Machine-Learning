{
  "nbformat": 4,
  "nbformat_minor": 0,
  "metadata": {
    "colab": {
      "name": "CashDemanForecasting.ipynb",
      "provenance": [],
      "collapsed_sections": [],
      "toc_visible": true
    },
    "kernelspec": {
      "name": "python3",
      "display_name": "Python 3"
    },
    "language_info": {
      "name": "python"
    },
    "accelerator": "GPU",
    "gpuClass": "standard",
    "widgets": {
      "application/vnd.jupyter.widget-state+json": {
        "56414e62794142868402868a3116df9e": {
          "model_module": "catboost-widget",
          "model_name": "CatboostWidgetModel",
          "model_module_version": "^1.0.0",
          "state": {
            "_dom_classes": [],
            "_model_module": "catboost-widget",
            "_model_module_version": "^1.0.0",
            "_model_name": "CatboostWidgetModel",
            "_view_count": null,
            "_view_module": "catboost-widget",
            "_view_module_version": "^1.0.0",
            "_view_name": "CatboostWidgetView",
            "data": {
              "catboost_info": {
                "path": "catboost_info",
                "name": "catboost_info",
                "content": {
                  "passed_iterations": 108,
                  "total_iterations": 1000,
                  "data": {
                    "iterations": [
                      {
                        "learn": [
                          244809.4894
                        ],
                        "iteration": 0,
                        "passed_time": 0.04751457059,
                        "remaining_time": 47.46705602,
                        "test": [
                          311384.8882
                        ]
                      },
                      {
                        "learn": [
                          239283.8961
                        ],
                        "iteration": 1,
                        "passed_time": 0.04862986358,
                        "remaining_time": 24.26630192,
                        "test": [
                          297952.1626
                        ]
                      },
                      {
                        "learn": [
                          234005.689
                        ],
                        "iteration": 2,
                        "passed_time": 0.04969665463,
                        "remaining_time": 16.51585489,
                        "test": [
                          285824.6014
                        ]
                      },
                      {
                        "learn": [
                          228592.8478
                        ],
                        "iteration": 3,
                        "passed_time": 0.05072524677,
                        "remaining_time": 12.63058645,
                        "test": [
                          274510.1771
                        ]
                      },
                      {
                        "learn": [
                          224099.3549
                        ],
                        "iteration": 4,
                        "passed_time": 0.05185599495,
                        "remaining_time": 10.319343,
                        "test": [
                          263422.3863
                        ]
                      },
                      {
                        "learn": [
                          220422.642
                        ],
                        "iteration": 5,
                        "passed_time": 0.05303013424,
                        "remaining_time": 8.785325573,
                        "test": [
                          253576.3137
                        ]
                      },
                      {
                        "learn": [
                          216620.2637
                        ],
                        "iteration": 6,
                        "passed_time": 0.05412843205,
                        "remaining_time": 7.678504718,
                        "test": [
                          244161.8014
                        ]
                      },
                      {
                        "learn": [
                          213286.5611
                        ],
                        "iteration": 7,
                        "passed_time": 0.05533566397,
                        "remaining_time": 6.861622333,
                        "test": [
                          238650.8898
                        ]
                      },
                      {
                        "learn": [
                          209865.0788
                        ],
                        "iteration": 8,
                        "passed_time": 0.05644850109,
                        "remaining_time": 6.215607175,
                        "test": [
                          230400.9735
                        ]
                      },
                      {
                        "learn": [
                          206511.4212
                        ],
                        "iteration": 9,
                        "passed_time": 0.05756477451,
                        "remaining_time": 5.698912677,
                        "test": [
                          223024.8665
                        ]
                      },
                      {
                        "learn": [
                          203873.5461
                        ],
                        "iteration": 10,
                        "passed_time": 0.05865162024,
                        "remaining_time": 5.273313856,
                        "test": [
                          217221.2468
                        ]
                      },
                      {
                        "learn": [
                          201087.3892
                        ],
                        "iteration": 11,
                        "passed_time": 0.05979827679,
                        "remaining_time": 4.923391456,
                        "test": [
                          211185.7444
                        ]
                      },
                      {
                        "learn": [
                          198684.4222
                        ],
                        "iteration": 12,
                        "passed_time": 0.06090818123,
                        "remaining_time": 4.624336529,
                        "test": [
                          205258.4131
                        ]
                      },
                      {
                        "learn": [
                          196550.9419
                        ],
                        "iteration": 13,
                        "passed_time": 0.06193002212,
                        "remaining_time": 4.361642986,
                        "test": [
                          200674.3527
                        ]
                      },
                      {
                        "learn": [
                          194628.1781
                        ],
                        "iteration": 14,
                        "passed_time": 0.06301809646,
                        "remaining_time": 4.138188334,
                        "test": [
                          195603.5759
                        ]
                      },
                      {
                        "learn": [
                          193105.8611
                        ],
                        "iteration": 15,
                        "passed_time": 0.06405478165,
                        "remaining_time": 3.939369071,
                        "test": [
                          192743.8334
                        ]
                      },
                      {
                        "learn": [
                          191389.1751
                        ],
                        "iteration": 16,
                        "passed_time": 0.06521280665,
                        "remaining_time": 3.770834643,
                        "test": [
                          188365.4641
                        ]
                      },
                      {
                        "learn": [
                          189733.7219
                        ],
                        "iteration": 17,
                        "passed_time": 0.06632839009,
                        "remaining_time": 3.61858217,
                        "test": [
                          184601.607
                        ]
                      },
                      {
                        "learn": [
                          188310.9424
                        ],
                        "iteration": 18,
                        "passed_time": 0.06746240049,
                        "remaining_time": 3.483190257,
                        "test": [
                          180859.1324
                        ]
                      },
                      {
                        "learn": [
                          186876.1091
                        ],
                        "iteration": 19,
                        "passed_time": 0.06848342184,
                        "remaining_time": 3.35568767,
                        "test": [
                          177542.0723
                        ]
                      },
                      {
                        "learn": [
                          185776.49
                        ],
                        "iteration": 20,
                        "passed_time": 0.06952884689,
                        "remaining_time": 3.241368624,
                        "test": [
                          174632.5876
                        ]
                      },
                      {
                        "learn": [
                          184802.7055
                        ],
                        "iteration": 21,
                        "passed_time": 0.07059064621,
                        "remaining_time": 3.13807509,
                        "test": [
                          171490.5945
                        ]
                      },
                      {
                        "learn": [
                          183784.5918
                        ],
                        "iteration": 22,
                        "passed_time": 0.0717087546,
                        "remaining_time": 3.046063184,
                        "test": [
                          169885.4431
                        ]
                      },
                      {
                        "learn": [
                          182691.2518
                        ],
                        "iteration": 23,
                        "passed_time": 0.07287789351,
                        "remaining_time": 2.963701003,
                        "test": [
                          167354.4884
                        ]
                      },
                      {
                        "learn": [
                          181836.1048
                        ],
                        "iteration": 24,
                        "passed_time": 0.07397932082,
                        "remaining_time": 2.885193512,
                        "test": [
                          164948.3016
                        ]
                      },
                      {
                        "learn": [
                          181023.6272
                        ],
                        "iteration": 25,
                        "passed_time": 0.07504373509,
                        "remaining_time": 2.811253768,
                        "test": [
                          163161.425
                        ]
                      },
                      {
                        "learn": [
                          180170.3991
                        ],
                        "iteration": 26,
                        "passed_time": 0.07615116457,
                        "remaining_time": 2.744262338,
                        "test": [
                          162594.2002
                        ]
                      },
                      {
                        "learn": [
                          179389.9295
                        ],
                        "iteration": 27,
                        "passed_time": 0.07721839653,
                        "remaining_time": 2.680581479,
                        "test": [
                          161111.3523
                        ]
                      },
                      {
                        "learn": [
                          178554.3298
                        ],
                        "iteration": 28,
                        "passed_time": 0.0783514224,
                        "remaining_time": 2.623421764,
                        "test": [
                          159580.2249
                        ]
                      },
                      {
                        "learn": [
                          177824.7879
                        ],
                        "iteration": 29,
                        "passed_time": 0.07947459616,
                        "remaining_time": 2.569678609,
                        "test": [
                          158140.8682
                        ]
                      },
                      {
                        "learn": [
                          177310.2564
                        ],
                        "iteration": 30,
                        "passed_time": 0.08062789761,
                        "remaining_time": 2.520272025,
                        "test": [
                          156899.4428
                        ]
                      },
                      {
                        "learn": [
                          176661.3953
                        ],
                        "iteration": 31,
                        "passed_time": 0.08174939186,
                        "remaining_time": 2.472919104,
                        "test": [
                          156007.4806
                        ]
                      },
                      {
                        "learn": [
                          176282.1663
                        ],
                        "iteration": 32,
                        "passed_time": 0.08247406037,
                        "remaining_time": 2.41673989,
                        "test": [
                          154922.1212
                        ]
                      },
                      {
                        "learn": [
                          175593.3707
                        ],
                        "iteration": 33,
                        "passed_time": 0.08352366398,
                        "remaining_time": 2.373054688,
                        "test": [
                          153924.3443
                        ]
                      },
                      {
                        "learn": [
                          174993.2713
                        ],
                        "iteration": 34,
                        "passed_time": 0.08458108473,
                        "remaining_time": 2.332021336,
                        "test": [
                          153060.7125
                        ]
                      },
                      {
                        "learn": [
                          174470.4076
                        ],
                        "iteration": 35,
                        "passed_time": 0.08558666816,
                        "remaining_time": 2.291820781,
                        "test": [
                          152603.3838
                        ]
                      },
                      {
                        "learn": [
                          173911.8702
                        ],
                        "iteration": 36,
                        "passed_time": 0.08662031522,
                        "remaining_time": 2.254469285,
                        "test": [
                          151588.9561
                        ]
                      },
                      {
                        "learn": [
                          173579.3893
                        ],
                        "iteration": 37,
                        "passed_time": 0.08769458842,
                        "remaining_time": 2.220057739,
                        "test": [
                          150859.3616
                        ]
                      },
                      {
                        "learn": [
                          173222.801
                        ],
                        "iteration": 38,
                        "passed_time": 0.08893991608,
                        "remaining_time": 2.191570753,
                        "test": [
                          150263.2105
                        ]
                      },
                      {
                        "learn": [
                          172810.0169
                        ],
                        "iteration": 39,
                        "passed_time": 0.0899424891,
                        "remaining_time": 2.158619739,
                        "test": [
                          149990.0664
                        ]
                      },
                      {
                        "learn": [
                          172488.845
                        ],
                        "iteration": 40,
                        "passed_time": 0.09680168516,
                        "remaining_time": 2.264215026,
                        "test": [
                          149646.3916
                        ]
                      },
                      {
                        "learn": [
                          172049.5382
                        ],
                        "iteration": 41,
                        "passed_time": 0.09989788504,
                        "remaining_time": 2.278623187,
                        "test": [
                          149182.8194
                        ]
                      },
                      {
                        "learn": [
                          171647.6804
                        ],
                        "iteration": 42,
                        "passed_time": 0.1031107703,
                        "remaining_time": 2.29481412,
                        "test": [
                          148801.5026
                        ]
                      },
                      {
                        "learn": [
                          171187.5191
                        ],
                        "iteration": 43,
                        "passed_time": 0.1049949247,
                        "remaining_time": 2.281253363,
                        "test": [
                          148394.0464
                        ]
                      },
                      {
                        "learn": [
                          170834.0428
                        ],
                        "iteration": 44,
                        "passed_time": 0.1062619452,
                        "remaining_time": 2.255114614,
                        "test": [
                          148331.0443
                        ]
                      },
                      {
                        "learn": [
                          170525.4943
                        ],
                        "iteration": 45,
                        "passed_time": 0.1074334399,
                        "remaining_time": 2.228076124,
                        "test": [
                          148411.8967
                        ]
                      },
                      {
                        "learn": [
                          170199.303
                        ],
                        "iteration": 46,
                        "passed_time": 0.1085653913,
                        "remaining_time": 2.201336551,
                        "test": [
                          148159.987
                        ]
                      },
                      {
                        "learn": [
                          169926.6825
                        ],
                        "iteration": 47,
                        "passed_time": 0.1097006708,
                        "remaining_time": 2.17572997,
                        "test": [
                          148039.2636
                        ]
                      },
                      {
                        "learn": [
                          169718.9679
                        ],
                        "iteration": 48,
                        "passed_time": 0.1108594789,
                        "remaining_time": 2.151578867,
                        "test": [
                          147670.6193
                        ]
                      },
                      {
                        "learn": [
                          169390.1505
                        ],
                        "iteration": 49,
                        "passed_time": 0.1119848136,
                        "remaining_time": 2.127711458,
                        "test": [
                          147361.1821
                        ]
                      },
                      {
                        "learn": [
                          169021.8201
                        ],
                        "iteration": 50,
                        "passed_time": 0.1130620426,
                        "remaining_time": 2.103840754,
                        "test": [
                          147125.2724
                        ]
                      },
                      {
                        "learn": [
                          168751.6341
                        ],
                        "iteration": 51,
                        "passed_time": 0.1141501302,
                        "remaining_time": 2.081044681,
                        "test": [
                          146914.5346
                        ]
                      },
                      {
                        "learn": [
                          168492.5976
                        ],
                        "iteration": 52,
                        "passed_time": 0.1151555586,
                        "remaining_time": 2.05759083,
                        "test": [
                          146938.0169
                        ]
                      },
                      {
                        "learn": [
                          168118.0179
                        ],
                        "iteration": 53,
                        "passed_time": 0.1161744795,
                        "remaining_time": 2.035204771,
                        "test": [
                          146622.3269
                        ]
                      },
                      {
                        "learn": [
                          167843.958
                        ],
                        "iteration": 54,
                        "passed_time": 0.1172278031,
                        "remaining_time": 2.014186798,
                        "test": [
                          146406.4877
                        ]
                      },
                      {
                        "learn": [
                          167605.404
                        ],
                        "iteration": 55,
                        "passed_time": 0.1182311997,
                        "remaining_time": 1.993040224,
                        "test": [
                          146187.0212
                        ]
                      },
                      {
                        "learn": [
                          167353.0848
                        ],
                        "iteration": 56,
                        "passed_time": 0.1192535774,
                        "remaining_time": 1.972914447,
                        "test": [
                          146126.1151
                        ]
                      },
                      {
                        "learn": [
                          167126.4615
                        ],
                        "iteration": 57,
                        "passed_time": 0.1203972654,
                        "remaining_time": 1.955417655,
                        "test": [
                          146447.9188
                        ]
                      },
                      {
                        "learn": [
                          166741.9778
                        ],
                        "iteration": 58,
                        "passed_time": 0.1214888829,
                        "remaining_time": 1.937644725,
                        "test": [
                          146380.3701
                        ]
                      },
                      {
                        "learn": [
                          166461.4572
                        ],
                        "iteration": 59,
                        "passed_time": 0.1226032427,
                        "remaining_time": 1.920784135,
                        "test": [
                          146187.6438
                        ]
                      },
                      {
                        "learn": [
                          166396.5434
                        ],
                        "iteration": 60,
                        "passed_time": 0.1231499932,
                        "remaining_time": 1.895702354,
                        "test": [
                          146180.7262
                        ]
                      },
                      {
                        "learn": [
                          166220.4632
                        ],
                        "iteration": 61,
                        "passed_time": 0.1241646656,
                        "remaining_time": 1.878491231,
                        "test": [
                          146098.4118
                        ]
                      },
                      {
                        "learn": [
                          165945.2239
                        ],
                        "iteration": 62,
                        "passed_time": 0.1252823499,
                        "remaining_time": 1.863326378,
                        "test": [
                          146002.7994
                        ]
                      },
                      {
                        "learn": [
                          165740.9628
                        ],
                        "iteration": 63,
                        "passed_time": 0.1263676015,
                        "remaining_time": 1.848126173,
                        "test": [
                          145994.3554
                        ]
                      },
                      {
                        "learn": [
                          165527.9588
                        ],
                        "iteration": 64,
                        "passed_time": 0.1274692461,
                        "remaining_time": 1.833596079,
                        "test": [
                          145993.8278
                        ]
                      },
                      {
                        "learn": [
                          165402.7026
                        ],
                        "iteration": 65,
                        "passed_time": 0.1288418494,
                        "remaining_time": 1.823307384,
                        "test": [
                          145645.3851
                        ]
                      },
                      {
                        "learn": [
                          165231.1798
                        ],
                        "iteration": 66,
                        "passed_time": 0.1299790529,
                        "remaining_time": 1.810006812,
                        "test": [
                          145543.1275
                        ]
                      },
                      {
                        "learn": [
                          165082.4764
                        ],
                        "iteration": 67,
                        "passed_time": 0.1311611898,
                        "remaining_time": 1.797679837,
                        "test": [
                          145382.7867
                        ]
                      },
                      {
                        "learn": [
                          164930.4266
                        ],
                        "iteration": 68,
                        "passed_time": 0.1322214964,
                        "remaining_time": 1.784032075,
                        "test": [
                          145408.2721
                        ]
                      },
                      {
                        "learn": [
                          164785.9791
                        ],
                        "iteration": 69,
                        "passed_time": 0.1333284541,
                        "remaining_time": 1.771363747,
                        "test": [
                          145362.9161
                        ]
                      },
                      {
                        "learn": [
                          164641.3909
                        ],
                        "iteration": 70,
                        "passed_time": 0.1344429871,
                        "remaining_time": 1.759120211,
                        "test": [
                          145378.701
                        ]
                      },
                      {
                        "learn": [
                          164476.823
                        ],
                        "iteration": 71,
                        "passed_time": 0.135544333,
                        "remaining_time": 1.747015848,
                        "test": [
                          145317.9106
                        ]
                      },
                      {
                        "learn": [
                          164310.9018
                        ],
                        "iteration": 72,
                        "passed_time": 0.1366243952,
                        "remaining_time": 1.734942663,
                        "test": [
                          145247.5048
                        ]
                      },
                      {
                        "learn": [
                          164086.3364
                        ],
                        "iteration": 73,
                        "passed_time": 0.1377354897,
                        "remaining_time": 1.723554911,
                        "test": [
                          145253.8928
                        ]
                      },
                      {
                        "learn": [
                          163932.7296
                        ],
                        "iteration": 74,
                        "passed_time": 0.1389038349,
                        "remaining_time": 1.713147298,
                        "test": [
                          145168.9093
                        ]
                      },
                      {
                        "learn": [
                          163772.5679
                        ],
                        "iteration": 75,
                        "passed_time": 0.1399705519,
                        "remaining_time": 1.701747236,
                        "test": [
                          144993.0509
                        ]
                      },
                      {
                        "learn": [
                          163643.3946
                        ],
                        "iteration": 76,
                        "passed_time": 0.1411186153,
                        "remaining_time": 1.691590674,
                        "test": [
                          144928.8612
                        ]
                      },
                      {
                        "learn": [
                          163530.119
                        ],
                        "iteration": 77,
                        "passed_time": 0.142131359,
                        "remaining_time": 1.680065552,
                        "test": [
                          144877.0834
                        ]
                      },
                      {
                        "learn": [
                          163361.6622
                        ],
                        "iteration": 78,
                        "passed_time": 0.1432093826,
                        "remaining_time": 1.669567613,
                        "test": [
                          145064.8001
                        ]
                      },
                      {
                        "learn": [
                          163150.492
                        ],
                        "iteration": 79,
                        "passed_time": 0.1442865985,
                        "remaining_time": 1.659295883,
                        "test": [
                          145152.9925
                        ]
                      },
                      {
                        "learn": [
                          163001.2521
                        ],
                        "iteration": 80,
                        "passed_time": 0.14527127,
                        "remaining_time": 1.648201199,
                        "test": [
                          145132.6059
                        ]
                      },
                      {
                        "learn": [
                          162870.8976
                        ],
                        "iteration": 81,
                        "passed_time": 0.1464036259,
                        "remaining_time": 1.639006446,
                        "test": [
                          144975.1215
                        ]
                      },
                      {
                        "learn": [
                          162733.4222
                        ],
                        "iteration": 82,
                        "passed_time": 0.1475106913,
                        "remaining_time": 1.629726553,
                        "test": [
                          145337.7081
                        ]
                      },
                      {
                        "learn": [
                          162598.2747
                        ],
                        "iteration": 83,
                        "passed_time": 0.1486560206,
                        "remaining_time": 1.62105851,
                        "test": [
                          145150.5013
                        ]
                      },
                      {
                        "learn": [
                          162447.4201
                        ],
                        "iteration": 84,
                        "passed_time": 0.1496986248,
                        "remaining_time": 1.611461667,
                        "test": [
                          145055.2572
                        ]
                      },
                      {
                        "learn": [
                          162357.0394
                        ],
                        "iteration": 85,
                        "passed_time": 0.1507128081,
                        "remaining_time": 1.601761704,
                        "test": [
                          144955.6237
                        ]
                      },
                      {
                        "learn": [
                          162169.3051
                        ],
                        "iteration": 86,
                        "passed_time": 0.1518294656,
                        "remaining_time": 1.593336805,
                        "test": [
                          144940.3717
                        ]
                      },
                      {
                        "learn": [
                          161977.1868
                        ],
                        "iteration": 87,
                        "passed_time": 0.1529963368,
                        "remaining_time": 1.585598399,
                        "test": [
                          144874.1915
                        ]
                      },
                      {
                        "learn": [
                          161785.222
                        ],
                        "iteration": 88,
                        "passed_time": 0.1541537109,
                        "remaining_time": 1.577910457,
                        "test": [
                          144795.212
                        ]
                      },
                      {
                        "learn": [
                          161639.8182
                        ],
                        "iteration": 89,
                        "passed_time": 0.1552343813,
                        "remaining_time": 1.569592077,
                        "test": [
                          144824.4144
                        ]
                      },
                      {
                        "learn": [
                          161480.0184
                        ],
                        "iteration": 90,
                        "passed_time": 0.1563109703,
                        "remaining_time": 1.561392001,
                        "test": [
                          144579.3667
                        ]
                      },
                      {
                        "learn": [
                          161348.3165
                        ],
                        "iteration": 91,
                        "passed_time": 0.1573956043,
                        "remaining_time": 1.553426181,
                        "test": [
                          144515.8053
                        ]
                      },
                      {
                        "learn": [
                          161190.1783
                        ],
                        "iteration": 92,
                        "passed_time": 0.1584437488,
                        "remaining_time": 1.545252475,
                        "test": [
                          144414.8276
                        ]
                      },
                      {
                        "learn": [
                          161115.4998
                        ],
                        "iteration": 93,
                        "passed_time": 0.1594625498,
                        "remaining_time": 1.536947554,
                        "test": [
                          144331.3199
                        ]
                      },
                      {
                        "learn": [
                          160957.5228
                        ],
                        "iteration": 94,
                        "passed_time": 0.160482223,
                        "remaining_time": 1.528804335,
                        "test": [
                          144308.5082
                        ]
                      },
                      {
                        "learn": [
                          160775.1804
                        ],
                        "iteration": 95,
                        "passed_time": 0.1615025575,
                        "remaining_time": 1.52081575,
                        "test": [
                          144209.1087
                        ]
                      },
                      {
                        "learn": [
                          160663.0238
                        ],
                        "iteration": 96,
                        "passed_time": 0.1625166131,
                        "remaining_time": 1.512912388,
                        "test": [
                          144264.7218
                        ]
                      },
                      {
                        "learn": [
                          160504.4602
                        ],
                        "iteration": 97,
                        "passed_time": 0.1636080533,
                        "remaining_time": 1.505861878,
                        "test": [
                          144225.2416
                        ]
                      },
                      {
                        "learn": [
                          160410.7103
                        ],
                        "iteration": 98,
                        "passed_time": 0.1646940645,
                        "remaining_time": 1.498882344,
                        "test": [
                          144148.11
                        ]
                      },
                      {
                        "learn": [
                          160304.3968
                        ],
                        "iteration": 99,
                        "passed_time": 0.1657582019,
                        "remaining_time": 1.491823817,
                        "test": [
                          144257.9041
                        ]
                      },
                      {
                        "learn": [
                          160178.7288
                        ],
                        "iteration": 100,
                        "passed_time": 0.1668645546,
                        "remaining_time": 1.485259748,
                        "test": [
                          144346.2137
                        ]
                      },
                      {
                        "learn": [
                          160040.5993
                        ],
                        "iteration": 101,
                        "passed_time": 0.1681090318,
                        "remaining_time": 1.480018731,
                        "test": [
                          144230.1787
                        ]
                      },
                      {
                        "learn": [
                          159800.3319
                        ],
                        "iteration": 102,
                        "passed_time": 0.1693277386,
                        "remaining_time": 1.474630888,
                        "test": [
                          144660.8811
                        ]
                      },
                      {
                        "learn": [
                          159633.8188
                        ],
                        "iteration": 103,
                        "passed_time": 0.1703973814,
                        "remaining_time": 1.468038978,
                        "test": [
                          144881.3146
                        ]
                      },
                      {
                        "learn": [
                          159555.0495
                        ],
                        "iteration": 104,
                        "passed_time": 0.1714531385,
                        "remaining_time": 1.461433895,
                        "test": [
                          144857.7038
                        ]
                      },
                      {
                        "learn": [
                          159413.8776
                        ],
                        "iteration": 105,
                        "passed_time": 0.1725477505,
                        "remaining_time": 1.455261216,
                        "test": [
                          144849.5085
                        ]
                      },
                      {
                        "learn": [
                          159282.7359
                        ],
                        "iteration": 106,
                        "passed_time": 0.1736038445,
                        "remaining_time": 1.448861992,
                        "test": [
                          144781.3837
                        ]
                      },
                      {
                        "learn": [
                          159169.6266
                        ],
                        "iteration": 107,
                        "passed_time": 0.1772049215,
                        "remaining_time": 1.463581388,
                        "test": [
                          144734.603
                        ]
                      },
                      {
                        "learn": [
                          159047.6959
                        ],
                        "iteration": 108,
                        "passed_time": 0.1787844013,
                        "remaining_time": 1.461439464,
                        "test": [
                          144821.1463
                        ]
                      }
                    ],
                    "meta": {
                      "test_sets": [
                        "test"
                      ],
                      "test_metrics": [
                        {
                          "best_value": "Min",
                          "name": "RMSE"
                        }
                      ],
                      "learn_metrics": [
                        {
                          "best_value": "Min",
                          "name": "RMSE"
                        }
                      ],
                      "launch_mode": "Train",
                      "parameters": "",
                      "iteration_count": 1000,
                      "learn_sets": [
                        "learn"
                      ],
                      "name": "experiment"
                    }
                  }
                }
              }
            },
            "layout": "IPY_MODEL_d7ed68d05c1b4731bc29b37d1ab475e0"
          }
        }
      }
    }
  },
  "cells": [
    {
      "cell_type": "markdown",
      "source": [
        "# Cash Demand Forecasting in ATM Using Machine Learning"
      ],
      "metadata": {
        "id": "3TluLIX-eWur"
      }
    },
    {
      "cell_type": "markdown",
      "source": [
        "# Downloading the Required Libraries"
      ],
      "metadata": {
        "id": "E90p7Ibyr4HJ"
      }
    },
    {
      "cell_type": "code",
      "source": [
        "!pip install catboost --quiet\n",
        "!pip install shap --quiet"
      ],
      "metadata": {
        "colab": {
          "base_uri": "https://localhost:8080/"
        },
        "id": "3ZbctfroqmCm",
        "outputId": "ad51f169-868f-4f11-ad02-ed15b7f627b9"
      },
      "execution_count": 3,
      "outputs": [
        {
          "output_type": "stream",
          "name": "stdout",
          "text": [
            "\u001b[K     |████████████████████████████████| 76.6 MB 84 kB/s \n",
            "\u001b[K     |████████████████████████████████| 569 kB 3.8 MB/s \n",
            "\u001b[?25h"
          ]
        }
      ]
    },
    {
      "cell_type": "markdown",
      "source": [
        "# Importing the Libraries"
      ],
      "metadata": {
        "id": "QqGKCR0Df4f8"
      }
    },
    {
      "cell_type": "code",
      "source": [
        "import pandas as pd\n",
        "import numpy as np\n",
        "import matplotlib.pyplot as plt\n",
        "import seaborn as sns\n",
        "import warnings\n",
        "warnings.filterwarnings(\"ignore\")\n",
        "\n",
        "from scipy import stats\n",
        "from sklearn.model_selection import train_test_split\n",
        "from sklearn.linear_model import LinearRegression\n",
        "from sklearn.metrics import r2_score\n",
        "from sklearn.metrics import mean_absolute_error, mean_absolute_percentage_error\n",
        "from sklearn.tree import DecisionTreeRegressor\n",
        "from sklearn.ensemble import RandomForestRegressor\n",
        "from sklearn.ensemble import VotingRegressor\n",
        "\n",
        "import shap\n",
        "from xgboost import XGBRegressor\n",
        "from catboost import CatBoostRegressor\n",
        "\n",
        "from fbprophet import Prophet"
      ],
      "metadata": {
        "id": "70yStUD4fvwp"
      },
      "execution_count": 4,
      "outputs": []
    },
    {
      "cell_type": "code",
      "source": [
        "df = pd.read_csv(URL)\n",
        "df.head()"
      ],
      "metadata": {
        "colab": {
          "base_uri": "https://localhost:8080/",
          "height": 206
        },
        "id": "RG2HrEh0glj1",
        "outputId": "d6d6047b-474f-414f-f8a6-67e5629abbc0"
      },
      "execution_count": 5,
      "outputs": [
        {
          "output_type": "execute_result",
          "data": {
            "text/plain": [
              "   Unnamed: 0        atm_name    weekday festival_religion working_day  \\\n",
              "0          11  Mount Road ATM     MONDAY                NH           W   \n",
              "1          16  Mount Road ATM    TUESDAY                NH           W   \n",
              "2          21  Mount Road ATM  WEDNESDAY                NH           W   \n",
              "3          26  Mount Road ATM   THURSDAY                NH           W   \n",
              "4          31  Mount Road ATM     FRIDAY                NH           W   \n",
              "\n",
              "  holiday_sequence  trans_date_set  trans_month  trans_year  prevweek_mean  \\\n",
              "0              WWW               1            1        2011         648600   \n",
              "1              WWW               1            1        2011         648600   \n",
              "2              WWW               1            1        2011         648600   \n",
              "3              WWW               2            1        2011         648600   \n",
              "4              WWW               2            1        2011         648600   \n",
              "\n",
              "   total_amount_withdrawn  \n",
              "0                  897100  \n",
              "1                  826000  \n",
              "2                  754400  \n",
              "3                  834200  \n",
              "4                  575300  "
            ],
            "text/html": [
              "\n",
              "  <div id=\"df-ceb470c5-057f-4bc2-b3d0-56299807e7e6\">\n",
              "    <div class=\"colab-df-container\">\n",
              "      <div>\n",
              "<style scoped>\n",
              "    .dataframe tbody tr th:only-of-type {\n",
              "        vertical-align: middle;\n",
              "    }\n",
              "\n",
              "    .dataframe tbody tr th {\n",
              "        vertical-align: top;\n",
              "    }\n",
              "\n",
              "    .dataframe thead th {\n",
              "        text-align: right;\n",
              "    }\n",
              "</style>\n",
              "<table border=\"1\" class=\"dataframe\">\n",
              "  <thead>\n",
              "    <tr style=\"text-align: right;\">\n",
              "      <th></th>\n",
              "      <th>Unnamed: 0</th>\n",
              "      <th>atm_name</th>\n",
              "      <th>weekday</th>\n",
              "      <th>festival_religion</th>\n",
              "      <th>working_day</th>\n",
              "      <th>holiday_sequence</th>\n",
              "      <th>trans_date_set</th>\n",
              "      <th>trans_month</th>\n",
              "      <th>trans_year</th>\n",
              "      <th>prevweek_mean</th>\n",
              "      <th>total_amount_withdrawn</th>\n",
              "    </tr>\n",
              "  </thead>\n",
              "  <tbody>\n",
              "    <tr>\n",
              "      <th>0</th>\n",
              "      <td>11</td>\n",
              "      <td>Mount Road ATM</td>\n",
              "      <td>MONDAY</td>\n",
              "      <td>NH</td>\n",
              "      <td>W</td>\n",
              "      <td>WWW</td>\n",
              "      <td>1</td>\n",
              "      <td>1</td>\n",
              "      <td>2011</td>\n",
              "      <td>648600</td>\n",
              "      <td>897100</td>\n",
              "    </tr>\n",
              "    <tr>\n",
              "      <th>1</th>\n",
              "      <td>16</td>\n",
              "      <td>Mount Road ATM</td>\n",
              "      <td>TUESDAY</td>\n",
              "      <td>NH</td>\n",
              "      <td>W</td>\n",
              "      <td>WWW</td>\n",
              "      <td>1</td>\n",
              "      <td>1</td>\n",
              "      <td>2011</td>\n",
              "      <td>648600</td>\n",
              "      <td>826000</td>\n",
              "    </tr>\n",
              "    <tr>\n",
              "      <th>2</th>\n",
              "      <td>21</td>\n",
              "      <td>Mount Road ATM</td>\n",
              "      <td>WEDNESDAY</td>\n",
              "      <td>NH</td>\n",
              "      <td>W</td>\n",
              "      <td>WWW</td>\n",
              "      <td>1</td>\n",
              "      <td>1</td>\n",
              "      <td>2011</td>\n",
              "      <td>648600</td>\n",
              "      <td>754400</td>\n",
              "    </tr>\n",
              "    <tr>\n",
              "      <th>3</th>\n",
              "      <td>26</td>\n",
              "      <td>Mount Road ATM</td>\n",
              "      <td>THURSDAY</td>\n",
              "      <td>NH</td>\n",
              "      <td>W</td>\n",
              "      <td>WWW</td>\n",
              "      <td>2</td>\n",
              "      <td>1</td>\n",
              "      <td>2011</td>\n",
              "      <td>648600</td>\n",
              "      <td>834200</td>\n",
              "    </tr>\n",
              "    <tr>\n",
              "      <th>4</th>\n",
              "      <td>31</td>\n",
              "      <td>Mount Road ATM</td>\n",
              "      <td>FRIDAY</td>\n",
              "      <td>NH</td>\n",
              "      <td>W</td>\n",
              "      <td>WWW</td>\n",
              "      <td>2</td>\n",
              "      <td>1</td>\n",
              "      <td>2011</td>\n",
              "      <td>648600</td>\n",
              "      <td>575300</td>\n",
              "    </tr>\n",
              "  </tbody>\n",
              "</table>\n",
              "</div>\n",
              "      <button class=\"colab-df-convert\" onclick=\"convertToInteractive('df-ceb470c5-057f-4bc2-b3d0-56299807e7e6')\"\n",
              "              title=\"Convert this dataframe to an interactive table.\"\n",
              "              style=\"display:none;\">\n",
              "        \n",
              "  <svg xmlns=\"http://www.w3.org/2000/svg\" height=\"24px\"viewBox=\"0 0 24 24\"\n",
              "       width=\"24px\">\n",
              "    <path d=\"M0 0h24v24H0V0z\" fill=\"none\"/>\n",
              "    <path d=\"M18.56 5.44l.94 2.06.94-2.06 2.06-.94-2.06-.94-.94-2.06-.94 2.06-2.06.94zm-11 1L8.5 8.5l.94-2.06 2.06-.94-2.06-.94L8.5 2.5l-.94 2.06-2.06.94zm10 10l.94 2.06.94-2.06 2.06-.94-2.06-.94-.94-2.06-.94 2.06-2.06.94z\"/><path d=\"M17.41 7.96l-1.37-1.37c-.4-.4-.92-.59-1.43-.59-.52 0-1.04.2-1.43.59L10.3 9.45l-7.72 7.72c-.78.78-.78 2.05 0 2.83L4 21.41c.39.39.9.59 1.41.59.51 0 1.02-.2 1.41-.59l7.78-7.78 2.81-2.81c.8-.78.8-2.07 0-2.86zM5.41 20L4 18.59l7.72-7.72 1.47 1.35L5.41 20z\"/>\n",
              "  </svg>\n",
              "      </button>\n",
              "      \n",
              "  <style>\n",
              "    .colab-df-container {\n",
              "      display:flex;\n",
              "      flex-wrap:wrap;\n",
              "      gap: 12px;\n",
              "    }\n",
              "\n",
              "    .colab-df-convert {\n",
              "      background-color: #E8F0FE;\n",
              "      border: none;\n",
              "      border-radius: 50%;\n",
              "      cursor: pointer;\n",
              "      display: none;\n",
              "      fill: #1967D2;\n",
              "      height: 32px;\n",
              "      padding: 0 0 0 0;\n",
              "      width: 32px;\n",
              "    }\n",
              "\n",
              "    .colab-df-convert:hover {\n",
              "      background-color: #E2EBFA;\n",
              "      box-shadow: 0px 1px 2px rgba(60, 64, 67, 0.3), 0px 1px 3px 1px rgba(60, 64, 67, 0.15);\n",
              "      fill: #174EA6;\n",
              "    }\n",
              "\n",
              "    [theme=dark] .colab-df-convert {\n",
              "      background-color: #3B4455;\n",
              "      fill: #D2E3FC;\n",
              "    }\n",
              "\n",
              "    [theme=dark] .colab-df-convert:hover {\n",
              "      background-color: #434B5C;\n",
              "      box-shadow: 0px 1px 3px 1px rgba(0, 0, 0, 0.15);\n",
              "      filter: drop-shadow(0px 1px 2px rgba(0, 0, 0, 0.3));\n",
              "      fill: #FFFFFF;\n",
              "    }\n",
              "  </style>\n",
              "\n",
              "      <script>\n",
              "        const buttonEl =\n",
              "          document.querySelector('#df-ceb470c5-057f-4bc2-b3d0-56299807e7e6 button.colab-df-convert');\n",
              "        buttonEl.style.display =\n",
              "          google.colab.kernel.accessAllowed ? 'block' : 'none';\n",
              "\n",
              "        async function convertToInteractive(key) {\n",
              "          const element = document.querySelector('#df-ceb470c5-057f-4bc2-b3d0-56299807e7e6');\n",
              "          const dataTable =\n",
              "            await google.colab.kernel.invokeFunction('convertToInteractive',\n",
              "                                                     [key], {});\n",
              "          if (!dataTable) return;\n",
              "\n",
              "          const docLinkHtml = 'Like what you see? Visit the ' +\n",
              "            '<a target=\"_blank\" href=https://colab.research.google.com/notebooks/data_table.ipynb>data table notebook</a>'\n",
              "            + ' to learn more about interactive tables.';\n",
              "          element.innerHTML = '';\n",
              "          dataTable['output_type'] = 'display_data';\n",
              "          await google.colab.output.renderOutput(dataTable, element);\n",
              "          const docLink = document.createElement('div');\n",
              "          docLink.innerHTML = docLinkHtml;\n",
              "          element.appendChild(docLink);\n",
              "        }\n",
              "      </script>\n",
              "    </div>\n",
              "  </div>\n",
              "  "
            ]
          },
          "metadata": {},
          "execution_count": 5
        }
      ]
    },
    {
      "cell_type": "code",
      "source": [
        "df.info()"
      ],
      "metadata": {
        "colab": {
          "base_uri": "https://localhost:8080/"
        },
        "id": "CqNNkb_OmWQh",
        "outputId": "bafb33ed-b302-49dd-8b0a-82bfceca8484"
      },
      "execution_count": 6,
      "outputs": [
        {
          "output_type": "stream",
          "name": "stdout",
          "text": [
            "<class 'pandas.core.frame.DataFrame'>\n",
            "RangeIndex: 2244 entries, 0 to 2243\n",
            "Data columns (total 11 columns):\n",
            " #   Column                  Non-Null Count  Dtype \n",
            "---  ------                  --------------  ----- \n",
            " 0   Unnamed: 0              2244 non-null   int64 \n",
            " 1   atm_name                2244 non-null   object\n",
            " 2   weekday                 2244 non-null   object\n",
            " 3   festival_religion       2244 non-null   object\n",
            " 4   working_day             2244 non-null   object\n",
            " 5   holiday_sequence        2244 non-null   object\n",
            " 6   trans_date_set          2244 non-null   int64 \n",
            " 7   trans_month             2244 non-null   int64 \n",
            " 8   trans_year              2244 non-null   int64 \n",
            " 9   prevweek_mean           2244 non-null   int64 \n",
            " 10  total_amount_withdrawn  2244 non-null   int64 \n",
            "dtypes: int64(6), object(5)\n",
            "memory usage: 193.0+ KB\n"
          ]
        }
      ]
    },
    {
      "cell_type": "code",
      "source": [
        "df.describe()"
      ],
      "metadata": {
        "colab": {
          "base_uri": "https://localhost:8080/",
          "height": 300
        },
        "id": "OWB_HmhxmYw6",
        "outputId": "853c6f54-f1a1-44b2-c0d3-badbf7a46d05"
      },
      "execution_count": 7,
      "outputs": [
        {
          "output_type": "execute_result",
          "data": {
            "text/plain": [
              "         Unnamed: 0  trans_date_set  trans_month   trans_year  prevweek_mean  \\\n",
              "count   2244.000000     2244.000000  2244.000000  2244.000000   2.244000e+03   \n",
              "mean    5706.037433        3.557932     6.313280  2013.710784   5.150901e+05   \n",
              "std     3348.296502        1.760703     3.257336     1.920082   1.935272e+05   \n",
              "min       11.000000        1.000000     1.000000  2011.000000   1.800000e+03   \n",
              "25%     2816.750000        2.000000     4.000000  2012.000000   4.197290e+05   \n",
              "50%     5664.500000        4.000000     6.000000  2014.000000   5.403860e+05   \n",
              "75%     8447.250000        5.000000     9.000000  2015.000000   6.378000e+05   \n",
              "max    11585.000000        7.000000    12.000000  2017.000000   1.006829e+06   \n",
              "\n",
              "       total_amount_withdrawn  \n",
              "count            2.244000e+03  \n",
              "mean             5.157175e+05  \n",
              "std              2.551791e+05  \n",
              "min              1.000000e+02  \n",
              "25%              3.494750e+05  \n",
              "50%              5.141000e+05  \n",
              "75%              6.849250e+05  \n",
              "max              1.410700e+06  "
            ],
            "text/html": [
              "\n",
              "  <div id=\"df-63613559-45d4-493e-9599-9e52ad753c96\">\n",
              "    <div class=\"colab-df-container\">\n",
              "      <div>\n",
              "<style scoped>\n",
              "    .dataframe tbody tr th:only-of-type {\n",
              "        vertical-align: middle;\n",
              "    }\n",
              "\n",
              "    .dataframe tbody tr th {\n",
              "        vertical-align: top;\n",
              "    }\n",
              "\n",
              "    .dataframe thead th {\n",
              "        text-align: right;\n",
              "    }\n",
              "</style>\n",
              "<table border=\"1\" class=\"dataframe\">\n",
              "  <thead>\n",
              "    <tr style=\"text-align: right;\">\n",
              "      <th></th>\n",
              "      <th>Unnamed: 0</th>\n",
              "      <th>trans_date_set</th>\n",
              "      <th>trans_month</th>\n",
              "      <th>trans_year</th>\n",
              "      <th>prevweek_mean</th>\n",
              "      <th>total_amount_withdrawn</th>\n",
              "    </tr>\n",
              "  </thead>\n",
              "  <tbody>\n",
              "    <tr>\n",
              "      <th>count</th>\n",
              "      <td>2244.000000</td>\n",
              "      <td>2244.000000</td>\n",
              "      <td>2244.000000</td>\n",
              "      <td>2244.000000</td>\n",
              "      <td>2.244000e+03</td>\n",
              "      <td>2.244000e+03</td>\n",
              "    </tr>\n",
              "    <tr>\n",
              "      <th>mean</th>\n",
              "      <td>5706.037433</td>\n",
              "      <td>3.557932</td>\n",
              "      <td>6.313280</td>\n",
              "      <td>2013.710784</td>\n",
              "      <td>5.150901e+05</td>\n",
              "      <td>5.157175e+05</td>\n",
              "    </tr>\n",
              "    <tr>\n",
              "      <th>std</th>\n",
              "      <td>3348.296502</td>\n",
              "      <td>1.760703</td>\n",
              "      <td>3.257336</td>\n",
              "      <td>1.920082</td>\n",
              "      <td>1.935272e+05</td>\n",
              "      <td>2.551791e+05</td>\n",
              "    </tr>\n",
              "    <tr>\n",
              "      <th>min</th>\n",
              "      <td>11.000000</td>\n",
              "      <td>1.000000</td>\n",
              "      <td>1.000000</td>\n",
              "      <td>2011.000000</td>\n",
              "      <td>1.800000e+03</td>\n",
              "      <td>1.000000e+02</td>\n",
              "    </tr>\n",
              "    <tr>\n",
              "      <th>25%</th>\n",
              "      <td>2816.750000</td>\n",
              "      <td>2.000000</td>\n",
              "      <td>4.000000</td>\n",
              "      <td>2012.000000</td>\n",
              "      <td>4.197290e+05</td>\n",
              "      <td>3.494750e+05</td>\n",
              "    </tr>\n",
              "    <tr>\n",
              "      <th>50%</th>\n",
              "      <td>5664.500000</td>\n",
              "      <td>4.000000</td>\n",
              "      <td>6.000000</td>\n",
              "      <td>2014.000000</td>\n",
              "      <td>5.403860e+05</td>\n",
              "      <td>5.141000e+05</td>\n",
              "    </tr>\n",
              "    <tr>\n",
              "      <th>75%</th>\n",
              "      <td>8447.250000</td>\n",
              "      <td>5.000000</td>\n",
              "      <td>9.000000</td>\n",
              "      <td>2015.000000</td>\n",
              "      <td>6.378000e+05</td>\n",
              "      <td>6.849250e+05</td>\n",
              "    </tr>\n",
              "    <tr>\n",
              "      <th>max</th>\n",
              "      <td>11585.000000</td>\n",
              "      <td>7.000000</td>\n",
              "      <td>12.000000</td>\n",
              "      <td>2017.000000</td>\n",
              "      <td>1.006829e+06</td>\n",
              "      <td>1.410700e+06</td>\n",
              "    </tr>\n",
              "  </tbody>\n",
              "</table>\n",
              "</div>\n",
              "      <button class=\"colab-df-convert\" onclick=\"convertToInteractive('df-63613559-45d4-493e-9599-9e52ad753c96')\"\n",
              "              title=\"Convert this dataframe to an interactive table.\"\n",
              "              style=\"display:none;\">\n",
              "        \n",
              "  <svg xmlns=\"http://www.w3.org/2000/svg\" height=\"24px\"viewBox=\"0 0 24 24\"\n",
              "       width=\"24px\">\n",
              "    <path d=\"M0 0h24v24H0V0z\" fill=\"none\"/>\n",
              "    <path d=\"M18.56 5.44l.94 2.06.94-2.06 2.06-.94-2.06-.94-.94-2.06-.94 2.06-2.06.94zm-11 1L8.5 8.5l.94-2.06 2.06-.94-2.06-.94L8.5 2.5l-.94 2.06-2.06.94zm10 10l.94 2.06.94-2.06 2.06-.94-2.06-.94-.94-2.06-.94 2.06-2.06.94z\"/><path d=\"M17.41 7.96l-1.37-1.37c-.4-.4-.92-.59-1.43-.59-.52 0-1.04.2-1.43.59L10.3 9.45l-7.72 7.72c-.78.78-.78 2.05 0 2.83L4 21.41c.39.39.9.59 1.41.59.51 0 1.02-.2 1.41-.59l7.78-7.78 2.81-2.81c.8-.78.8-2.07 0-2.86zM5.41 20L4 18.59l7.72-7.72 1.47 1.35L5.41 20z\"/>\n",
              "  </svg>\n",
              "      </button>\n",
              "      \n",
              "  <style>\n",
              "    .colab-df-container {\n",
              "      display:flex;\n",
              "      flex-wrap:wrap;\n",
              "      gap: 12px;\n",
              "    }\n",
              "\n",
              "    .colab-df-convert {\n",
              "      background-color: #E8F0FE;\n",
              "      border: none;\n",
              "      border-radius: 50%;\n",
              "      cursor: pointer;\n",
              "      display: none;\n",
              "      fill: #1967D2;\n",
              "      height: 32px;\n",
              "      padding: 0 0 0 0;\n",
              "      width: 32px;\n",
              "    }\n",
              "\n",
              "    .colab-df-convert:hover {\n",
              "      background-color: #E2EBFA;\n",
              "      box-shadow: 0px 1px 2px rgba(60, 64, 67, 0.3), 0px 1px 3px 1px rgba(60, 64, 67, 0.15);\n",
              "      fill: #174EA6;\n",
              "    }\n",
              "\n",
              "    [theme=dark] .colab-df-convert {\n",
              "      background-color: #3B4455;\n",
              "      fill: #D2E3FC;\n",
              "    }\n",
              "\n",
              "    [theme=dark] .colab-df-convert:hover {\n",
              "      background-color: #434B5C;\n",
              "      box-shadow: 0px 1px 3px 1px rgba(0, 0, 0, 0.15);\n",
              "      filter: drop-shadow(0px 1px 2px rgba(0, 0, 0, 0.3));\n",
              "      fill: #FFFFFF;\n",
              "    }\n",
              "  </style>\n",
              "\n",
              "      <script>\n",
              "        const buttonEl =\n",
              "          document.querySelector('#df-63613559-45d4-493e-9599-9e52ad753c96 button.colab-df-convert');\n",
              "        buttonEl.style.display =\n",
              "          google.colab.kernel.accessAllowed ? 'block' : 'none';\n",
              "\n",
              "        async function convertToInteractive(key) {\n",
              "          const element = document.querySelector('#df-63613559-45d4-493e-9599-9e52ad753c96');\n",
              "          const dataTable =\n",
              "            await google.colab.kernel.invokeFunction('convertToInteractive',\n",
              "                                                     [key], {});\n",
              "          if (!dataTable) return;\n",
              "\n",
              "          const docLinkHtml = 'Like what you see? Visit the ' +\n",
              "            '<a target=\"_blank\" href=https://colab.research.google.com/notebooks/data_table.ipynb>data table notebook</a>'\n",
              "            + ' to learn more about interactive tables.';\n",
              "          element.innerHTML = '';\n",
              "          dataTable['output_type'] = 'display_data';\n",
              "          await google.colab.output.renderOutput(dataTable, element);\n",
              "          const docLink = document.createElement('div');\n",
              "          docLink.innerHTML = docLinkHtml;\n",
              "          element.appendChild(docLink);\n",
              "        }\n",
              "      </script>\n",
              "    </div>\n",
              "  </div>\n",
              "  "
            ]
          },
          "metadata": {},
          "execution_count": 7
        }
      ]
    },
    {
      "cell_type": "code",
      "source": [
        "# Adding Date Column to DataFrame\n",
        "date_cols = ['trans_year', 'trans_month','trans_date_set']\n",
        "df['date'] = df[date_cols].apply(lambda x: '-'.join(x.values.astype(str)), axis=\"columns\")\n",
        "df['date'] = pd.to_datetime(df['date'])\n",
        "\n",
        "# Set the Index to date column\n",
        "df = df.set_index('date')\n",
        "df.head()"
      ],
      "metadata": {
        "colab": {
          "base_uri": "https://localhost:8080/",
          "height": 238
        },
        "id": "fVf7-H-Bhnmo",
        "outputId": "76462abe-5494-4ed2-dc5a-510e43784e14"
      },
      "execution_count": 8,
      "outputs": [
        {
          "output_type": "execute_result",
          "data": {
            "text/plain": [
              "            Unnamed: 0        atm_name    weekday festival_religion  \\\n",
              "date                                                                  \n",
              "2011-01-01          11  Mount Road ATM     MONDAY                NH   \n",
              "2011-01-01          16  Mount Road ATM    TUESDAY                NH   \n",
              "2011-01-01          21  Mount Road ATM  WEDNESDAY                NH   \n",
              "2011-01-02          26  Mount Road ATM   THURSDAY                NH   \n",
              "2011-01-02          31  Mount Road ATM     FRIDAY                NH   \n",
              "\n",
              "           working_day holiday_sequence  trans_date_set  trans_month  \\\n",
              "date                                                                   \n",
              "2011-01-01           W              WWW               1            1   \n",
              "2011-01-01           W              WWW               1            1   \n",
              "2011-01-01           W              WWW               1            1   \n",
              "2011-01-02           W              WWW               2            1   \n",
              "2011-01-02           W              WWW               2            1   \n",
              "\n",
              "            trans_year  prevweek_mean  total_amount_withdrawn  \n",
              "date                                                           \n",
              "2011-01-01        2011         648600                  897100  \n",
              "2011-01-01        2011         648600                  826000  \n",
              "2011-01-01        2011         648600                  754400  \n",
              "2011-01-02        2011         648600                  834200  \n",
              "2011-01-02        2011         648600                  575300  "
            ],
            "text/html": [
              "\n",
              "  <div id=\"df-3166d061-2d42-4a95-b7bf-0682929d488b\">\n",
              "    <div class=\"colab-df-container\">\n",
              "      <div>\n",
              "<style scoped>\n",
              "    .dataframe tbody tr th:only-of-type {\n",
              "        vertical-align: middle;\n",
              "    }\n",
              "\n",
              "    .dataframe tbody tr th {\n",
              "        vertical-align: top;\n",
              "    }\n",
              "\n",
              "    .dataframe thead th {\n",
              "        text-align: right;\n",
              "    }\n",
              "</style>\n",
              "<table border=\"1\" class=\"dataframe\">\n",
              "  <thead>\n",
              "    <tr style=\"text-align: right;\">\n",
              "      <th></th>\n",
              "      <th>Unnamed: 0</th>\n",
              "      <th>atm_name</th>\n",
              "      <th>weekday</th>\n",
              "      <th>festival_religion</th>\n",
              "      <th>working_day</th>\n",
              "      <th>holiday_sequence</th>\n",
              "      <th>trans_date_set</th>\n",
              "      <th>trans_month</th>\n",
              "      <th>trans_year</th>\n",
              "      <th>prevweek_mean</th>\n",
              "      <th>total_amount_withdrawn</th>\n",
              "    </tr>\n",
              "    <tr>\n",
              "      <th>date</th>\n",
              "      <th></th>\n",
              "      <th></th>\n",
              "      <th></th>\n",
              "      <th></th>\n",
              "      <th></th>\n",
              "      <th></th>\n",
              "      <th></th>\n",
              "      <th></th>\n",
              "      <th></th>\n",
              "      <th></th>\n",
              "      <th></th>\n",
              "    </tr>\n",
              "  </thead>\n",
              "  <tbody>\n",
              "    <tr>\n",
              "      <th>2011-01-01</th>\n",
              "      <td>11</td>\n",
              "      <td>Mount Road ATM</td>\n",
              "      <td>MONDAY</td>\n",
              "      <td>NH</td>\n",
              "      <td>W</td>\n",
              "      <td>WWW</td>\n",
              "      <td>1</td>\n",
              "      <td>1</td>\n",
              "      <td>2011</td>\n",
              "      <td>648600</td>\n",
              "      <td>897100</td>\n",
              "    </tr>\n",
              "    <tr>\n",
              "      <th>2011-01-01</th>\n",
              "      <td>16</td>\n",
              "      <td>Mount Road ATM</td>\n",
              "      <td>TUESDAY</td>\n",
              "      <td>NH</td>\n",
              "      <td>W</td>\n",
              "      <td>WWW</td>\n",
              "      <td>1</td>\n",
              "      <td>1</td>\n",
              "      <td>2011</td>\n",
              "      <td>648600</td>\n",
              "      <td>826000</td>\n",
              "    </tr>\n",
              "    <tr>\n",
              "      <th>2011-01-01</th>\n",
              "      <td>21</td>\n",
              "      <td>Mount Road ATM</td>\n",
              "      <td>WEDNESDAY</td>\n",
              "      <td>NH</td>\n",
              "      <td>W</td>\n",
              "      <td>WWW</td>\n",
              "      <td>1</td>\n",
              "      <td>1</td>\n",
              "      <td>2011</td>\n",
              "      <td>648600</td>\n",
              "      <td>754400</td>\n",
              "    </tr>\n",
              "    <tr>\n",
              "      <th>2011-01-02</th>\n",
              "      <td>26</td>\n",
              "      <td>Mount Road ATM</td>\n",
              "      <td>THURSDAY</td>\n",
              "      <td>NH</td>\n",
              "      <td>W</td>\n",
              "      <td>WWW</td>\n",
              "      <td>2</td>\n",
              "      <td>1</td>\n",
              "      <td>2011</td>\n",
              "      <td>648600</td>\n",
              "      <td>834200</td>\n",
              "    </tr>\n",
              "    <tr>\n",
              "      <th>2011-01-02</th>\n",
              "      <td>31</td>\n",
              "      <td>Mount Road ATM</td>\n",
              "      <td>FRIDAY</td>\n",
              "      <td>NH</td>\n",
              "      <td>W</td>\n",
              "      <td>WWW</td>\n",
              "      <td>2</td>\n",
              "      <td>1</td>\n",
              "      <td>2011</td>\n",
              "      <td>648600</td>\n",
              "      <td>575300</td>\n",
              "    </tr>\n",
              "  </tbody>\n",
              "</table>\n",
              "</div>\n",
              "      <button class=\"colab-df-convert\" onclick=\"convertToInteractive('df-3166d061-2d42-4a95-b7bf-0682929d488b')\"\n",
              "              title=\"Convert this dataframe to an interactive table.\"\n",
              "              style=\"display:none;\">\n",
              "        \n",
              "  <svg xmlns=\"http://www.w3.org/2000/svg\" height=\"24px\"viewBox=\"0 0 24 24\"\n",
              "       width=\"24px\">\n",
              "    <path d=\"M0 0h24v24H0V0z\" fill=\"none\"/>\n",
              "    <path d=\"M18.56 5.44l.94 2.06.94-2.06 2.06-.94-2.06-.94-.94-2.06-.94 2.06-2.06.94zm-11 1L8.5 8.5l.94-2.06 2.06-.94-2.06-.94L8.5 2.5l-.94 2.06-2.06.94zm10 10l.94 2.06.94-2.06 2.06-.94-2.06-.94-.94-2.06-.94 2.06-2.06.94z\"/><path d=\"M17.41 7.96l-1.37-1.37c-.4-.4-.92-.59-1.43-.59-.52 0-1.04.2-1.43.59L10.3 9.45l-7.72 7.72c-.78.78-.78 2.05 0 2.83L4 21.41c.39.39.9.59 1.41.59.51 0 1.02-.2 1.41-.59l7.78-7.78 2.81-2.81c.8-.78.8-2.07 0-2.86zM5.41 20L4 18.59l7.72-7.72 1.47 1.35L5.41 20z\"/>\n",
              "  </svg>\n",
              "      </button>\n",
              "      \n",
              "  <style>\n",
              "    .colab-df-container {\n",
              "      display:flex;\n",
              "      flex-wrap:wrap;\n",
              "      gap: 12px;\n",
              "    }\n",
              "\n",
              "    .colab-df-convert {\n",
              "      background-color: #E8F0FE;\n",
              "      border: none;\n",
              "      border-radius: 50%;\n",
              "      cursor: pointer;\n",
              "      display: none;\n",
              "      fill: #1967D2;\n",
              "      height: 32px;\n",
              "      padding: 0 0 0 0;\n",
              "      width: 32px;\n",
              "    }\n",
              "\n",
              "    .colab-df-convert:hover {\n",
              "      background-color: #E2EBFA;\n",
              "      box-shadow: 0px 1px 2px rgba(60, 64, 67, 0.3), 0px 1px 3px 1px rgba(60, 64, 67, 0.15);\n",
              "      fill: #174EA6;\n",
              "    }\n",
              "\n",
              "    [theme=dark] .colab-df-convert {\n",
              "      background-color: #3B4455;\n",
              "      fill: #D2E3FC;\n",
              "    }\n",
              "\n",
              "    [theme=dark] .colab-df-convert:hover {\n",
              "      background-color: #434B5C;\n",
              "      box-shadow: 0px 1px 3px 1px rgba(0, 0, 0, 0.15);\n",
              "      filter: drop-shadow(0px 1px 2px rgba(0, 0, 0, 0.3));\n",
              "      fill: #FFFFFF;\n",
              "    }\n",
              "  </style>\n",
              "\n",
              "      <script>\n",
              "        const buttonEl =\n",
              "          document.querySelector('#df-3166d061-2d42-4a95-b7bf-0682929d488b button.colab-df-convert');\n",
              "        buttonEl.style.display =\n",
              "          google.colab.kernel.accessAllowed ? 'block' : 'none';\n",
              "\n",
              "        async function convertToInteractive(key) {\n",
              "          const element = document.querySelector('#df-3166d061-2d42-4a95-b7bf-0682929d488b');\n",
              "          const dataTable =\n",
              "            await google.colab.kernel.invokeFunction('convertToInteractive',\n",
              "                                                     [key], {});\n",
              "          if (!dataTable) return;\n",
              "\n",
              "          const docLinkHtml = 'Like what you see? Visit the ' +\n",
              "            '<a target=\"_blank\" href=https://colab.research.google.com/notebooks/data_table.ipynb>data table notebook</a>'\n",
              "            + ' to learn more about interactive tables.';\n",
              "          element.innerHTML = '';\n",
              "          dataTable['output_type'] = 'display_data';\n",
              "          await google.colab.output.renderOutput(dataTable, element);\n",
              "          const docLink = document.createElement('div');\n",
              "          docLink.innerHTML = docLinkHtml;\n",
              "          element.appendChild(docLink);\n",
              "        }\n",
              "      </script>\n",
              "    </div>\n",
              "  </div>\n",
              "  "
            ]
          },
          "metadata": {},
          "execution_count": 8
        }
      ]
    },
    {
      "cell_type": "markdown",
      "source": [
        "# Explonatory Data Analysis"
      ],
      "metadata": {
        "id": "zuzD1KwtmriV"
      }
    },
    {
      "cell_type": "code",
      "source": [
        "plt.figure(figsize = (15,6))\n",
        "plt.style.use('ggplot')\n",
        "plt.plot(df['total_amount_withdrawn'])\n",
        "plt.title(\"ATM Cash Withdrwal\", fontsize = 20)\n",
        "plt.show()"
      ],
      "metadata": {
        "colab": {
          "base_uri": "https://localhost:8080/",
          "height": 395
        },
        "id": "-c7Iv4b4kDFB",
        "outputId": "5ec9ce63-ea6c-4dd4-aab6-a6eb782ed34d"
      },
      "execution_count": 9,
      "outputs": [
        {
          "output_type": "display_data",
          "data": {
            "text/plain": [
              "<Figure size 1080x432 with 1 Axes>"
            ],
            "image/png": "[encoded data removed]"
          },
          "metadata": {
            "needs_background": "light"
          }
        }
      ]
    },
    {
      "cell_type": "markdown",
      "source": [
        "## Distribution plot of Target Variable"
      ],
      "metadata": {
        "id": "6PD1e2lkm38Q"
      }
    },
    {
      "cell_type": "code",
      "source": [
        "plt.figure(figsize=(15,6))\n",
        "plt.style.use(\"seaborn\")\n",
        "plt.subplot(1,2,1)\n",
        "df['total_amount_withdrawn'].hist(bins=50, edgecolor=\"white\")\n",
        "plt.title('Total amount withdrawan')\n",
        "plt.subplot(1,2,2)\n",
        "stats.probplot(df['total_amount_withdrawn'], plot=plt);\n",
        "df['total_amount_withdrawn'].describe().T.round()"
      ],
      "metadata": {
        "colab": {
          "base_uri": "https://localhost:8080/",
          "height": 559
        },
        "id": "CbXuui_pm7w_",
        "outputId": "6bfe84fb-1572-44fe-b4c1-bd86e18afbf1"
      },
      "execution_count": 10,
      "outputs": [
        {
          "output_type": "execute_result",
          "data": {
            "text/plain": [
              "count       2244.0\n",
              "mean      515717.0\n",
              "std       255179.0\n",
              "min          100.0\n",
              "25%       349475.0\n",
              "50%       514100.0\n",
              "75%       684925.0\n",
              "max      1410700.0\n",
              "Name: total_amount_withdrawn, dtype: float64"
            ]
          },
          "metadata": {},
          "execution_count": 10
        },
        {
          "output_type": "display_data",
          "data": {
            "text/plain": [
              "<Figure size 1080x432 with 2 Axes>"
            ],
            "image/png": "[encoded data removed]"
          },
          "metadata": {}
        }
      ]
    },
    {
      "cell_type": "code",
      "source": [
        "plt.figure(figsize = (15,8))\n",
        "sns.set_theme(style=\"ticks\", palette=\"pastel\")\n",
        "sns.distplot(df['total_amount_withdrawn'],fit=stats.norm)\n",
        "plt.show()"
      ],
      "metadata": {
        "colab": {
          "base_uri": "https://localhost:8080/",
          "height": 517
        },
        "id": "X2hVDxO8plG_",
        "outputId": "266b1f11-4f90-4657-9dda-d20a9469c1d0"
      },
      "execution_count": 11,
      "outputs": [
        {
          "output_type": "display_data",
          "data": {
            "text/plain": [
              "<Figure size 1080x576 with 1 Axes>"
            ],
            "image/png": "[encoded data removed]"
          },
          "metadata": {}
        }
      ]
    },
    {
      "cell_type": "markdown",
      "source": [
        "## Correlation Matrix"
      ],
      "metadata": {
        "id": "vYkkNKvtrs9E"
      }
    },
    {
      "cell_type": "code",
      "source": [
        "plt.figure(figsize=(10,6))\n",
        "sns.heatmap(df.corr(),annot=True,fmt=\".2f\")\n",
        "plt.title(\"Correlation Matrix\", fontsize = 20)\n",
        "plt.show()"
      ],
      "metadata": {
        "colab": {
          "base_uri": "https://localhost:8080/",
          "height": 528
        },
        "id": "Frn_iKWUuPIi",
        "outputId": "1ff4cfda-6515-45d2-fe39-4f34226dbccd"
      },
      "execution_count": 12,
      "outputs": [
        {
          "output_type": "display_data",
          "data": {
            "text/plain": [
              "<Figure size 720x432 with 2 Axes>"
            ],
            "image/png": "[encoded data removed]"
          },
          "metadata": {}
        }
      ]
    },
    {
      "cell_type": "code",
      "source": [
        "sns.set_theme(style=\"ticks\", palette=\"pastel\")\n",
        "plt.figure(figsize = (15,8))\n",
        "sns.boxplot(x=\"weekday\", y=\"total_amount_withdrawn\", hue=\"working_day\", palette=[\"m\", \"g\"], data=df)\n",
        "plt.title(\"Cash Amount withdrawn on Weekdays\", fontsize = 20)\n",
        "plt.show()"
      ],
      "metadata": {
        "colab": {
          "base_uri": "https://localhost:8080/",
          "height": 527
        },
        "id": "FfG4ol97v4kP",
        "outputId": "dfaf7ad0-7269-4b9c-bfc7-0d62ce5c0a3e"
      },
      "execution_count": 13,
      "outputs": [
        {
          "output_type": "display_data",
          "data": {
            "text/plain": [
              "<Figure size 1080x576 with 1 Axes>"
            ],
            "image/png": "[encoded data removed]"
          },
          "metadata": {}
        }
      ]
    },
    {
      "cell_type": "code",
      "source": [
        "sns.set_theme(style=\"ticks\", palette=\"pastel\")\n",
        "plt.figure(figsize = (15,8))\n",
        "sns.boxplot(x=\"holiday_sequence\", y=\"total_amount_withdrawn\", palette=[\"m\", \"g\"], data=df)\n",
        "plt.title(\"Cash Amount withdrawn based on Holiday sequence\", fontsize = 20)\n",
        "plt.show()"
      ],
      "metadata": {
        "colab": {
          "base_uri": "https://localhost:8080/",
          "height": 527
        },
        "id": "PS6na5r4xpP6",
        "outputId": "023ba882-9f9d-46cc-bdd9-7c3621675e33"
      },
      "execution_count": 14,
      "outputs": [
        {
          "output_type": "display_data",
          "data": {
            "text/plain": [
              "<Figure size 1080x576 with 1 Axes>"
            ],
            "image/png": "[encoded data removed]"
          },
          "metadata": {}
        }
      ]
    },
    {
      "cell_type": "code",
      "source": [
        "sns.set_theme(style=\"ticks\", palette=\"pastel\")\n",
        "plt.figure(figsize = (12,8))\n",
        "sns.boxplot(x=\"working_day\", y=\"total_amount_withdrawn\", palette=[\"m\", \"g\"], data=df)\n",
        "plt.title(\"Is it Working day or not ?\", fontsize = 20)\n",
        "plt.show()"
      ],
      "metadata": {
        "colab": {
          "base_uri": "https://localhost:8080/",
          "height": 527
        },
        "id": "SIwIPuJuyjqn",
        "outputId": "1e489db5-d0bf-4c77-e93e-8bcf44797883"
      },
      "execution_count": 15,
      "outputs": [
        {
          "output_type": "display_data",
          "data": {
            "text/plain": [
              "<Figure size 864x576 with 1 Axes>"
            ],
            "image/png": "[encoded data removed]"
          },
          "metadata": {}
        }
      ]
    },
    {
      "cell_type": "markdown",
      "source": [
        "# Data Preprocessing"
      ],
      "metadata": {
        "id": "H4-8XUyAzyfC"
      }
    },
    {
      "cell_type": "code",
      "source": [
        "FEATURES = df.copy()\n",
        "\n",
        "# Extracting numerical and Categorical Columns\n",
        "NUMERIC_COLS = df.select_dtypes(include=np.number).columns.tolist()\n",
        "CATEGORICAL_COLS = df.select_dtypes(include = 'object').columns.tolist()[1:]\n",
        "\n",
        "NUMERIC_DATA = df[NUMERIC_COLS]\n",
        "CATEGORICAL_DATA = df[CATEGORICAL_COLS]\n",
        "\n",
        "# One Hot Encoding the Categorical Variables\n",
        "CATEGORICAL_DATA = pd.get_dummies(CATEGORICAL_DATA)\n",
        "\n",
        "# Concating the two dataframe\n",
        "FEATURES = pd.concat([NUMERIC_DATA, CATEGORICAL_DATA], axis = 1)\n",
        "FEATURES.info()"
      ],
      "metadata": {
        "colab": {
          "base_uri": "https://localhost:8080/"
        },
        "id": "q_4Yasw7z2uF",
        "outputId": "2e308005-e47e-4418-f4aa-bede15e2abbc"
      },
      "execution_count": 16,
      "outputs": [
        {
          "output_type": "stream",
          "name": "stdout",
          "text": [
            "<class 'pandas.core.frame.DataFrame'>\n",
            "DatetimeIndex: 2244 entries, 2011-01-01 to 2017-09-06\n",
            "Data columns (total 28 columns):\n",
            " #   Column                  Non-Null Count  Dtype\n",
            "---  ------                  --------------  -----\n",
            " 0   Unnamed: 0              2244 non-null   int64\n",
            " 1   trans_date_set          2244 non-null   int64\n",
            " 2   trans_month             2244 non-null   int64\n",
            " 3   trans_year              2244 non-null   int64\n",
            " 4   prevweek_mean           2244 non-null   int64\n",
            " 5   total_amount_withdrawn  2244 non-null   int64\n",
            " 6   weekday_FRIDAY          2244 non-null   uint8\n",
            " 7   weekday_MONDAY          2244 non-null   uint8\n",
            " 8   weekday_SATURDAY        2244 non-null   uint8\n",
            " 9   weekday_SUNDAY          2244 non-null   uint8\n",
            " 10  weekday_THURSDAY        2244 non-null   uint8\n",
            " 11  weekday_TUESDAY         2244 non-null   uint8\n",
            " 12  weekday_WEDNESDAY       2244 non-null   uint8\n",
            " 13  festival_religion_C     2244 non-null   uint8\n",
            " 14  festival_religion_H     2244 non-null   uint8\n",
            " 15  festival_religion_M     2244 non-null   uint8\n",
            " 16  festival_religion_N     2244 non-null   uint8\n",
            " 17  festival_religion_NH    2244 non-null   uint8\n",
            " 18  working_day_H           2244 non-null   uint8\n",
            " 19  working_day_W           2244 non-null   uint8\n",
            " 20  holiday_sequence_HHH    2244 non-null   uint8\n",
            " 21  holiday_sequence_HHW    2244 non-null   uint8\n",
            " 22  holiday_sequence_HWH    2244 non-null   uint8\n",
            " 23  holiday_sequence_HWW    2244 non-null   uint8\n",
            " 24  holiday_sequence_WHH    2244 non-null   uint8\n",
            " 25  holiday_sequence_WHW    2244 non-null   uint8\n",
            " 26  holiday_sequence_WWH    2244 non-null   uint8\n",
            " 27  holiday_sequence_WWW    2244 non-null   uint8\n",
            "dtypes: int64(6), uint8(22)\n",
            "memory usage: 170.9 KB\n"
          ]
        }
      ]
    },
    {
      "cell_type": "code",
      "source": [
        "X = FEATURES.copy().drop(columns = ['total_amount_withdrawn'])\n",
        "y = FEATURES['total_amount_withdrawn'].copy()"
      ],
      "metadata": {
        "id": "21zIU4uu4nIZ"
      },
      "execution_count": 17,
      "outputs": []
    },
    {
      "cell_type": "markdown",
      "source": [
        "# Splitting the Data into Train and Test Set"
      ],
      "metadata": {
        "id": "FmvZKTiU5Gi-"
      }
    },
    {
      "cell_type": "markdown",
      "source": [
        "Here, we set shuffle to `False` because we do not want our model to learn from future data. So what it does is it split first 80% observations to train and next 20% to test"
      ],
      "metadata": {
        "id": "-u8sghaU6n_f"
      }
    },
    {
      "cell_type": "code",
      "source": [
        "X_train, X_test, y_train, y_test = train_test_split(X, y, shuffle = False, test_size = 0.05, random_state = 1)\n",
        "print(\"The no. of observation in X_train are\", X_train.shape[0])\n",
        "print(\"The no. of observation in X_test are:\",X_test.shape[0])"
      ],
      "metadata": {
        "colab": {
          "base_uri": "https://localhost:8080/"
        },
        "id": "hqamGJcB5Loj",
        "outputId": "669e93d6-7511-49e7-913f-4be2b4f22ea1"
      },
      "execution_count": 18,
      "outputs": [
        {
          "output_type": "stream",
          "name": "stdout",
          "text": [
            "The no. of observation in X_train are 2131\n",
            "The no. of observation in X_test are: 113\n"
          ]
        }
      ]
    },
    {
      "cell_type": "code",
      "source": [
        "y_test"
      ],
      "metadata": {
        "colab": {
          "base_uri": "https://localhost:8080/"
        },
        "id": "pH9lyF72H_43",
        "outputId": "dacb58a5-efdb-4b58-94bc-c92d9f393df9"
      },
      "execution_count": 19,
      "outputs": [
        {
          "output_type": "execute_result",
          "data": {
            "text/plain": [
              "date\n",
              "2017-06-01    398600\n",
              "2017-06-02    575500\n",
              "2017-06-02    856400\n",
              "2017-06-02    647900\n",
              "2017-06-02    258900\n",
              "               ...  \n",
              "2017-09-05    447400\n",
              "2017-09-06    153800\n",
              "2017-09-06    167100\n",
              "2017-09-06    317400\n",
              "2017-09-06    305100\n",
              "Name: total_amount_withdrawn, Length: 113, dtype: int64"
            ]
          },
          "metadata": {},
          "execution_count": 19
        }
      ]
    },
    {
      "cell_type": "markdown",
      "source": [
        "# Model Building"
      ],
      "metadata": {
        "id": "My4OaHaN9a9b"
      }
    },
    {
      "cell_type": "code",
      "source": [
        "# Function to Analyze The Model Performance\n",
        "def analyze_model(Model_name, Model_Prediction, y_test = y_test):\n",
        "  analyze_df = pd.DataFrame({Model_name: np.round(Model_Prediction, decimals = 0), 'True_Values': y_test})\n",
        "  analyze_df['WeekDay'] = analyze_df.index.day_name()\n",
        "  analyze_df['%Age Error'] =  np.round(((Model_Prediction-y_test)/y_test*100), decimals = 0)\n",
        "  print(f\"R2 Score for {Model_name} model is:\", r2_score(y_test, Model_Prediction))\n",
        "  print(f\"Mean Absolute Error for {Model_name} model is:\", np.round(mean_absolute_error(y_test, Model_Prediction), decimals = 0))\n",
        "  print(f\"Accuracy:\", y_test.mean()/Model_Prediction.mean())\n",
        "  return analyze_df.sample(10)"
      ],
      "metadata": {
        "id": "sQHGE12V_GqP"
      },
      "execution_count": 20,
      "outputs": []
    },
    {
      "cell_type": "markdown",
      "source": [
        "## Linear Regression"
      ],
      "metadata": {
        "id": "QSLLCaE19fkb"
      }
    },
    {
      "cell_type": "code",
      "source": [
        "lr_model = LinearRegression()\n",
        "lr_model.fit(X_train, y_train)\n",
        "lr_pred = lr_model.predict(X_test)"
      ],
      "metadata": {
        "id": "X7XjlAjn7NPq"
      },
      "execution_count": 21,
      "outputs": []
    },
    {
      "cell_type": "code",
      "source": [
        "analyze_model(\"Linear Regression\", lr_pred)"
      ],
      "metadata": {
        "colab": {
          "base_uri": "https://localhost:8080/",
          "height": 446
        },
        "id": "WYs6KJX-En0P",
        "outputId": "5f2ecb5f-e76c-4198-90f9-5f2910d8ae14"
      },
      "execution_count": 22,
      "outputs": [
        {
          "output_type": "stream",
          "name": "stdout",
          "text": [
            "R2 Score for Linear Regression model is: -0.10331933304232477\n",
            "Mean Absolute Error for Linear Regression model is: 120854.0\n",
            "Accuracy: 1.1751957512216065\n"
          ]
        },
        {
          "output_type": "execute_result",
          "data": {
            "text/plain": [
              "            Linear Regression  True_Values    WeekDay  %Age Error\n",
              "date                                                             \n",
              "2017-06-04           153096.0       138000     Sunday        11.0\n",
              "2017-09-01           328527.0       384700     Friday       -15.0\n",
              "2017-07-05           207535.0       211800  Wednesday        -2.0\n",
              "2017-08-04           182293.0       105200     Friday        73.0\n",
              "2017-06-05            94452.0        72500     Monday        30.0\n",
              "2017-09-05           144902.0       337100    Tuesday       -57.0\n",
              "2017-08-02           295871.0       292300  Wednesday         1.0\n",
              "2017-07-01           308288.0       104400   Saturday       195.0\n",
              "2017-08-05           184886.0       121500   Saturday        52.0\n",
              "2017-07-05           172975.0       124700  Wednesday        39.0"
            ],
            "text/html": [
              "\n",
              "  <div id=\"df-4bb838fd-b1bf-47f6-834c-249b5a342515\">\n",
              "    <div class=\"colab-df-container\">\n",
              "      <div>\n",
              "<style scoped>\n",
              "    .dataframe tbody tr th:only-of-type {\n",
              "        vertical-align: middle;\n",
              "    }\n",
              "\n",
              "    .dataframe tbody tr th {\n",
              "        vertical-align: top;\n",
              "    }\n",
              "\n",
              "    .dataframe thead th {\n",
              "        text-align: right;\n",
              "    }\n",
              "</style>\n",
              "<table border=\"1\" class=\"dataframe\">\n",
              "  <thead>\n",
              "    <tr style=\"text-align: right;\">\n",
              "      <th></th>\n",
              "      <th>Linear Regression</th>\n",
              "      <th>True_Values</th>\n",
              "      <th>WeekDay</th>\n",
              "      <th>%Age Error</th>\n",
              "    </tr>\n",
              "    <tr>\n",
              "      <th>date</th>\n",
              "      <th></th>\n",
              "      <th></th>\n",
              "      <th></th>\n",
              "      <th></th>\n",
              "    </tr>\n",
              "  </thead>\n",
              "  <tbody>\n",
              "    <tr>\n",
              "      <th>2017-06-04</th>\n",
              "      <td>153096.0</td>\n",
              "      <td>138000</td>\n",
              "      <td>Sunday</td>\n",
              "      <td>11.0</td>\n",
              "    </tr>\n",
              "    <tr>\n",
              "      <th>2017-09-01</th>\n",
              "      <td>328527.0</td>\n",
              "      <td>384700</td>\n",
              "      <td>Friday</td>\n",
              "      <td>-15.0</td>\n",
              "    </tr>\n",
              "    <tr>\n",
              "      <th>2017-07-05</th>\n",
              "      <td>207535.0</td>\n",
              "      <td>211800</td>\n",
              "      <td>Wednesday</td>\n",
              "      <td>-2.0</td>\n",
              "    </tr>\n",
              "    <tr>\n",
              "      <th>2017-08-04</th>\n",
              "      <td>182293.0</td>\n",
              "      <td>105200</td>\n",
              "      <td>Friday</td>\n",
              "      <td>73.0</td>\n",
              "    </tr>\n",
              "    <tr>\n",
              "      <th>2017-06-05</th>\n",
              "      <td>94452.0</td>\n",
              "      <td>72500</td>\n",
              "      <td>Monday</td>\n",
              "      <td>30.0</td>\n",
              "    </tr>\n",
              "    <tr>\n",
              "      <th>2017-09-05</th>\n",
              "      <td>144902.0</td>\n",
              "      <td>337100</td>\n",
              "      <td>Tuesday</td>\n",
              "      <td>-57.0</td>\n",
              "    </tr>\n",
              "    <tr>\n",
              "      <th>2017-08-02</th>\n",
              "      <td>295871.0</td>\n",
              "      <td>292300</td>\n",
              "      <td>Wednesday</td>\n",
              "      <td>1.0</td>\n",
              "    </tr>\n",
              "    <tr>\n",
              "      <th>2017-07-01</th>\n",
              "      <td>308288.0</td>\n",
              "      <td>104400</td>\n",
              "      <td>Saturday</td>\n",
              "      <td>195.0</td>\n",
              "    </tr>\n",
              "    <tr>\n",
              "      <th>2017-08-05</th>\n",
              "      <td>184886.0</td>\n",
              "      <td>121500</td>\n",
              "      <td>Saturday</td>\n",
              "      <td>52.0</td>\n",
              "    </tr>\n",
              "    <tr>\n",
              "      <th>2017-07-05</th>\n",
              "      <td>172975.0</td>\n",
              "      <td>124700</td>\n",
              "      <td>Wednesday</td>\n",
              "      <td>39.0</td>\n",
              "    </tr>\n",
              "  </tbody>\n",
              "</table>\n",
              "</div>\n",
              "      <button class=\"colab-df-convert\" onclick=\"convertToInteractive('df-4bb838fd-b1bf-47f6-834c-249b5a342515')\"\n",
              "              title=\"Convert this dataframe to an interactive table.\"\n",
              "              style=\"display:none;\">\n",
              "        \n",
              "  <svg xmlns=\"http://www.w3.org/2000/svg\" height=\"24px\"viewBox=\"0 0 24 24\"\n",
              "       width=\"24px\">\n",
              "    <path d=\"M0 0h24v24H0V0z\" fill=\"none\"/>\n",
              "    <path d=\"M18.56 5.44l.94 2.06.94-2.06 2.06-.94-2.06-.94-.94-2.06-.94 2.06-2.06.94zm-11 1L8.5 8.5l.94-2.06 2.06-.94-2.06-.94L8.5 2.5l-.94 2.06-2.06.94zm10 10l.94 2.06.94-2.06 2.06-.94-2.06-.94-.94-2.06-.94 2.06-2.06.94z\"/><path d=\"M17.41 7.96l-1.37-1.37c-.4-.4-.92-.59-1.43-.59-.52 0-1.04.2-1.43.59L10.3 9.45l-7.72 7.72c-.78.78-.78 2.05 0 2.83L4 21.41c.39.39.9.59 1.41.59.51 0 1.02-.2 1.41-.59l7.78-7.78 2.81-2.81c.8-.78.8-2.07 0-2.86zM5.41 20L4 18.59l7.72-7.72 1.47 1.35L5.41 20z\"/>\n",
              "  </svg>\n",
              "      </button>\n",
              "      \n",
              "  <style>\n",
              "    .colab-df-container {\n",
              "      display:flex;\n",
              "      flex-wrap:wrap;\n",
              "      gap: 12px;\n",
              "    }\n",
              "\n",
              "    .colab-df-convert {\n",
              "      background-color: #E8F0FE;\n",
              "      border: none;\n",
              "      border-radius: 50%;\n",
              "      cursor: pointer;\n",
              "      display: none;\n",
              "      fill: #1967D2;\n",
              "      height: 32px;\n",
              "      padding: 0 0 0 0;\n",
              "      width: 32px;\n",
              "    }\n",
              "\n",
              "    .colab-df-convert:hover {\n",
              "      background-color: #E2EBFA;\n",
              "      box-shadow: 0px 1px 2px rgba(60, 64, 67, 0.3), 0px 1px 3px 1px rgba(60, 64, 67, 0.15);\n",
              "      fill: #174EA6;\n",
              "    }\n",
              "\n",
              "    [theme=dark] .colab-df-convert {\n",
              "      background-color: #3B4455;\n",
              "      fill: #D2E3FC;\n",
              "    }\n",
              "\n",
              "    [theme=dark] .colab-df-convert:hover {\n",
              "      background-color: #434B5C;\n",
              "      box-shadow: 0px 1px 3px 1px rgba(0, 0, 0, 0.15);\n",
              "      filter: drop-shadow(0px 1px 2px rgba(0, 0, 0, 0.3));\n",
              "      fill: #FFFFFF;\n",
              "    }\n",
              "  </style>\n",
              "\n",
              "      <script>\n",
              "        const buttonEl =\n",
              "          document.querySelector('#df-4bb838fd-b1bf-47f6-834c-249b5a342515 button.colab-df-convert');\n",
              "        buttonEl.style.display =\n",
              "          google.colab.kernel.accessAllowed ? 'block' : 'none';\n",
              "\n",
              "        async function convertToInteractive(key) {\n",
              "          const element = document.querySelector('#df-4bb838fd-b1bf-47f6-834c-249b5a342515');\n",
              "          const dataTable =\n",
              "            await google.colab.kernel.invokeFunction('convertToInteractive',\n",
              "                                                     [key], {});\n",
              "          if (!dataTable) return;\n",
              "\n",
              "          const docLinkHtml = 'Like what you see? Visit the ' +\n",
              "            '<a target=\"_blank\" href=https://colab.research.google.com/notebooks/data_table.ipynb>data table notebook</a>'\n",
              "            + ' to learn more about interactive tables.';\n",
              "          element.innerHTML = '';\n",
              "          dataTable['output_type'] = 'display_data';\n",
              "          await google.colab.output.renderOutput(dataTable, element);\n",
              "          const docLink = document.createElement('div');\n",
              "          docLink.innerHTML = docLinkHtml;\n",
              "          element.appendChild(docLink);\n",
              "        }\n",
              "      </script>\n",
              "    </div>\n",
              "  </div>\n",
              "  "
            ]
          },
          "metadata": {},
          "execution_count": 22
        }
      ]
    },
    {
      "cell_type": "markdown",
      "source": [
        "## Decision Tree"
      ],
      "metadata": {
        "id": "Sskjjt7jXtS8"
      }
    },
    {
      "cell_type": "code",
      "source": [
        "dt_model = DecisionTreeRegressor()\n",
        "dt_model.fit(X_train, y_train)\n",
        "dt_pred = dt_model.predict(X_test)"
      ],
      "metadata": {
        "id": "7h6dnreZXxNF"
      },
      "execution_count": 23,
      "outputs": []
    },
    {
      "cell_type": "code",
      "source": [
        "analyze_model(\"Decision Tree\", dt_pred)"
      ],
      "metadata": {
        "colab": {
          "base_uri": "https://localhost:8080/",
          "height": 446
        },
        "id": "sfxdBUGsYexI",
        "outputId": "e85d3c21-6c31-4ca5-e797-e7cb1b0766a5"
      },
      "execution_count": 24,
      "outputs": [
        {
          "output_type": "stream",
          "name": "stdout",
          "text": [
            "R2 Score for Decision Tree model is: -1.0403896304616782\n",
            "Mean Absolute Error for Decision Tree model is: 178694.0\n",
            "Accuracy: 0.7552987198698229\n"
          ]
        },
        {
          "output_type": "execute_result",
          "data": {
            "text/plain": [
              "            Decision Tree  True_Values    WeekDay  %Age Error\n",
              "date                                                         \n",
              "2017-07-02       181600.0       184500     Sunday        -2.0\n",
              "2017-06-02       449100.0       124900     Friday       260.0\n",
              "2017-07-05       222000.0       163100  Wednesday        36.0\n",
              "2017-08-02       473000.0       378600  Wednesday        25.0\n",
              "2017-08-04       466800.0       105200     Friday       344.0\n",
              "2017-08-01       449100.0       225400    Tuesday        99.0\n",
              "2017-06-04       365900.0       138000     Sunday       165.0\n",
              "2017-08-04        60000.0       376700     Friday       -84.0\n",
              "2017-07-03       473000.0        90300     Monday       424.0\n",
              "2017-08-01       473000.0       315200    Tuesday        50.0"
            ],
            "text/html": [
              "\n",
              "  <div id=\"df-f80e4dae-a166-4a22-89ba-584574d6724c\">\n",
              "    <div class=\"colab-df-container\">\n",
              "      <div>\n",
              "<style scoped>\n",
              "    .dataframe tbody tr th:only-of-type {\n",
              "        vertical-align: middle;\n",
              "    }\n",
              "\n",
              "    .dataframe tbody tr th {\n",
              "        vertical-align: top;\n",
              "    }\n",
              "\n",
              "    .dataframe thead th {\n",
              "        text-align: right;\n",
              "    }\n",
              "</style>\n",
              "<table border=\"1\" class=\"dataframe\">\n",
              "  <thead>\n",
              "    <tr style=\"text-align: right;\">\n",
              "      <th></th>\n",
              "      <th>Decision Tree</th>\n",
              "      <th>True_Values</th>\n",
              "      <th>WeekDay</th>\n",
              "      <th>%Age Error</th>\n",
              "    </tr>\n",
              "    <tr>\n",
              "      <th>date</th>\n",
              "      <th></th>\n",
              "      <th></th>\n",
              "      <th></th>\n",
              "      <th></th>\n",
              "    </tr>\n",
              "  </thead>\n",
              "  <tbody>\n",
              "    <tr>\n",
              "      <th>2017-07-02</th>\n",
              "      <td>181600.0</td>\n",
              "      <td>184500</td>\n",
              "      <td>Sunday</td>\n",
              "      <td>-2.0</td>\n",
              "    </tr>\n",
              "    <tr>\n",
              "      <th>2017-06-02</th>\n",
              "      <td>449100.0</td>\n",
              "      <td>124900</td>\n",
              "      <td>Friday</td>\n",
              "      <td>260.0</td>\n",
              "    </tr>\n",
              "    <tr>\n",
              "      <th>2017-07-05</th>\n",
              "      <td>222000.0</td>\n",
              "      <td>163100</td>\n",
              "      <td>Wednesday</td>\n",
              "      <td>36.0</td>\n",
              "    </tr>\n",
              "    <tr>\n",
              "      <th>2017-08-02</th>\n",
              "      <td>473000.0</td>\n",
              "      <td>378600</td>\n",
              "      <td>Wednesday</td>\n",
              "      <td>25.0</td>\n",
              "    </tr>\n",
              "    <tr>\n",
              "      <th>2017-08-04</th>\n",
              "      <td>466800.0</td>\n",
              "      <td>105200</td>\n",
              "      <td>Friday</td>\n",
              "      <td>344.0</td>\n",
              "    </tr>\n",
              "    <tr>\n",
              "      <th>2017-08-01</th>\n",
              "      <td>449100.0</td>\n",
              "      <td>225400</td>\n",
              "      <td>Tuesday</td>\n",
              "      <td>99.0</td>\n",
              "    </tr>\n",
              "    <tr>\n",
              "      <th>2017-06-04</th>\n",
              "      <td>365900.0</td>\n",
              "      <td>138000</td>\n",
              "      <td>Sunday</td>\n",
              "      <td>165.0</td>\n",
              "    </tr>\n",
              "    <tr>\n",
              "      <th>2017-08-04</th>\n",
              "      <td>60000.0</td>\n",
              "      <td>376700</td>\n",
              "      <td>Friday</td>\n",
              "      <td>-84.0</td>\n",
              "    </tr>\n",
              "    <tr>\n",
              "      <th>2017-07-03</th>\n",
              "      <td>473000.0</td>\n",
              "      <td>90300</td>\n",
              "      <td>Monday</td>\n",
              "      <td>424.0</td>\n",
              "    </tr>\n",
              "    <tr>\n",
              "      <th>2017-08-01</th>\n",
              "      <td>473000.0</td>\n",
              "      <td>315200</td>\n",
              "      <td>Tuesday</td>\n",
              "      <td>50.0</td>\n",
              "    </tr>\n",
              "  </tbody>\n",
              "</table>\n",
              "</div>\n",
              "      <button class=\"colab-df-convert\" onclick=\"convertToInteractive('df-f80e4dae-a166-4a22-89ba-584574d6724c')\"\n",
              "              title=\"Convert this dataframe to an interactive table.\"\n",
              "              style=\"display:none;\">\n",
              "        \n",
              "  <svg xmlns=\"http://www.w3.org/2000/svg\" height=\"24px\"viewBox=\"0 0 24 24\"\n",
              "       width=\"24px\">\n",
              "    <path d=\"M0 0h24v24H0V0z\" fill=\"none\"/>\n",
              "    <path d=\"M18.56 5.44l.94 2.06.94-2.06 2.06-.94-2.06-.94-.94-2.06-.94 2.06-2.06.94zm-11 1L8.5 8.5l.94-2.06 2.06-.94-2.06-.94L8.5 2.5l-.94 2.06-2.06.94zm10 10l.94 2.06.94-2.06 2.06-.94-2.06-.94-.94-2.06-.94 2.06-2.06.94z\"/><path d=\"M17.41 7.96l-1.37-1.37c-.4-.4-.92-.59-1.43-.59-.52 0-1.04.2-1.43.59L10.3 9.45l-7.72 7.72c-.78.78-.78 2.05 0 2.83L4 21.41c.39.39.9.59 1.41.59.51 0 1.02-.2 1.41-.59l7.78-7.78 2.81-2.81c.8-.78.8-2.07 0-2.86zM5.41 20L4 18.59l7.72-7.72 1.47 1.35L5.41 20z\"/>\n",
              "  </svg>\n",
              "      </button>\n",
              "      \n",
              "  <style>\n",
              "    .colab-df-container {\n",
              "      display:flex;\n",
              "      flex-wrap:wrap;\n",
              "      gap: 12px;\n",
              "    }\n",
              "\n",
              "    .colab-df-convert {\n",
              "      background-color: #E8F0FE;\n",
              "      border: none;\n",
              "      border-radius: 50%;\n",
              "      cursor: pointer;\n",
              "      display: none;\n",
              "      fill: #1967D2;\n",
              "      height: 32px;\n",
              "      padding: 0 0 0 0;\n",
              "      width: 32px;\n",
              "    }\n",
              "\n",
              "    .colab-df-convert:hover {\n",
              "      background-color: #E2EBFA;\n",
              "      box-shadow: 0px 1px 2px rgba(60, 64, 67, 0.3), 0px 1px 3px 1px rgba(60, 64, 67, 0.15);\n",
              "      fill: #174EA6;\n",
              "    }\n",
              "\n",
              "    [theme=dark] .colab-df-convert {\n",
              "      background-color: #3B4455;\n",
              "      fill: #D2E3FC;\n",
              "    }\n",
              "\n",
              "    [theme=dark] .colab-df-convert:hover {\n",
              "      background-color: #434B5C;\n",
              "      box-shadow: 0px 1px 3px 1px rgba(0, 0, 0, 0.15);\n",
              "      filter: drop-shadow(0px 1px 2px rgba(0, 0, 0, 0.3));\n",
              "      fill: #FFFFFF;\n",
              "    }\n",
              "  </style>\n",
              "\n",
              "      <script>\n",
              "        const buttonEl =\n",
              "          document.querySelector('#df-f80e4dae-a166-4a22-89ba-584574d6724c button.colab-df-convert');\n",
              "        buttonEl.style.display =\n",
              "          google.colab.kernel.accessAllowed ? 'block' : 'none';\n",
              "\n",
              "        async function convertToInteractive(key) {\n",
              "          const element = document.querySelector('#df-f80e4dae-a166-4a22-89ba-584574d6724c');\n",
              "          const dataTable =\n",
              "            await google.colab.kernel.invokeFunction('convertToInteractive',\n",
              "                                                     [key], {});\n",
              "          if (!dataTable) return;\n",
              "\n",
              "          const docLinkHtml = 'Like what you see? Visit the ' +\n",
              "            '<a target=\"_blank\" href=https://colab.research.google.com/notebooks/data_table.ipynb>data table notebook</a>'\n",
              "            + ' to learn more about interactive tables.';\n",
              "          element.innerHTML = '';\n",
              "          dataTable['output_type'] = 'display_data';\n",
              "          await google.colab.output.renderOutput(dataTable, element);\n",
              "          const docLink = document.createElement('div');\n",
              "          docLink.innerHTML = docLinkHtml;\n",
              "          element.appendChild(docLink);\n",
              "        }\n",
              "      </script>\n",
              "    </div>\n",
              "  </div>\n",
              "  "
            ]
          },
          "metadata": {},
          "execution_count": 24
        }
      ]
    },
    {
      "cell_type": "markdown",
      "source": [
        "## Random Forest"
      ],
      "metadata": {
        "id": "5NqmiJgqZO1b"
      }
    },
    {
      "cell_type": "code",
      "source": [
        "rf_model = RandomForestRegressor(n_estimators = 100, max_depth = 5)\n",
        "rf_model.fit(X_train, y_train)\n",
        "rf_pred = rf_model.predict(X_test)"
      ],
      "metadata": {
        "id": "IIeEoNmGZN8Y"
      },
      "execution_count": 25,
      "outputs": []
    },
    {
      "cell_type": "code",
      "source": [
        "analyze_model(\"Random Forest\", rf_pred)"
      ],
      "metadata": {
        "colab": {
          "base_uri": "https://localhost:8080/",
          "height": 446
        },
        "id": "1uiHtGnEaLib",
        "outputId": "2e3eab37-9ad7-4657-f6f5-629da0b3e1f4"
      },
      "execution_count": 26,
      "outputs": [
        {
          "output_type": "stream",
          "name": "stdout",
          "text": [
            "R2 Score for Random Forest model is: 0.025543157195492494\n",
            "Mean Absolute Error for Random Forest model is: 119573.0\n",
            "Accuracy: 0.8692686695063346\n"
          ]
        },
        {
          "output_type": "execute_result",
          "data": {
            "text/plain": [
              "            Random Forest  True_Values    WeekDay  %Age Error\n",
              "date                                                         \n",
              "2017-09-02       253845.0        82700   Saturday       207.0\n",
              "2017-07-06       244081.0       230700   Thursday         6.0\n",
              "2017-07-06       222447.0       195200   Thursday        14.0\n",
              "2017-07-01       314344.0       414700   Saturday       -24.0\n",
              "2017-07-03       310783.0        90300     Monday       244.0\n",
              "2017-09-06       271873.0       167100  Wednesday        63.0\n",
              "2017-07-04       273951.0       147900    Tuesday        85.0\n",
              "2017-06-06       273592.0       214700    Tuesday        27.0\n",
              "2017-08-04       280192.0       376700     Friday       -26.0\n",
              "2017-06-06       256501.0       211700    Tuesday        21.0"
            ],
            "text/html": [
              "\n",
              "  <div id=\"df-6bafe83d-a9d2-4c12-b299-20a80e224830\">\n",
              "    <div class=\"colab-df-container\">\n",
              "      <div>\n",
              "<style scoped>\n",
              "    .dataframe tbody tr th:only-of-type {\n",
              "        vertical-align: middle;\n",
              "    }\n",
              "\n",
              "    .dataframe tbody tr th {\n",
              "        vertical-align: top;\n",
              "    }\n",
              "\n",
              "    .dataframe thead th {\n",
              "        text-align: right;\n",
              "    }\n",
              "</style>\n",
              "<table border=\"1\" class=\"dataframe\">\n",
              "  <thead>\n",
              "    <tr style=\"text-align: right;\">\n",
              "      <th></th>\n",
              "      <th>Random Forest</th>\n",
              "      <th>True_Values</th>\n",
              "      <th>WeekDay</th>\n",
              "      <th>%Age Error</th>\n",
              "    </tr>\n",
              "    <tr>\n",
              "      <th>date</th>\n",
              "      <th></th>\n",
              "      <th></th>\n",
              "      <th></th>\n",
              "      <th></th>\n",
              "    </tr>\n",
              "  </thead>\n",
              "  <tbody>\n",
              "    <tr>\n",
              "      <th>2017-09-02</th>\n",
              "      <td>253845.0</td>\n",
              "      <td>82700</td>\n",
              "      <td>Saturday</td>\n",
              "      <td>207.0</td>\n",
              "    </tr>\n",
              "    <tr>\n",
              "      <th>2017-07-06</th>\n",
              "      <td>244081.0</td>\n",
              "      <td>230700</td>\n",
              "      <td>Thursday</td>\n",
              "      <td>6.0</td>\n",
              "    </tr>\n",
              "    <tr>\n",
              "      <th>2017-07-06</th>\n",
              "      <td>222447.0</td>\n",
              "      <td>195200</td>\n",
              "      <td>Thursday</td>\n",
              "      <td>14.0</td>\n",
              "    </tr>\n",
              "    <tr>\n",
              "      <th>2017-07-01</th>\n",
              "      <td>314344.0</td>\n",
              "      <td>414700</td>\n",
              "      <td>Saturday</td>\n",
              "      <td>-24.0</td>\n",
              "    </tr>\n",
              "    <tr>\n",
              "      <th>2017-07-03</th>\n",
              "      <td>310783.0</td>\n",
              "      <td>90300</td>\n",
              "      <td>Monday</td>\n",
              "      <td>244.0</td>\n",
              "    </tr>\n",
              "    <tr>\n",
              "      <th>2017-09-06</th>\n",
              "      <td>271873.0</td>\n",
              "      <td>167100</td>\n",
              "      <td>Wednesday</td>\n",
              "      <td>63.0</td>\n",
              "    </tr>\n",
              "    <tr>\n",
              "      <th>2017-07-04</th>\n",
              "      <td>273951.0</td>\n",
              "      <td>147900</td>\n",
              "      <td>Tuesday</td>\n",
              "      <td>85.0</td>\n",
              "    </tr>\n",
              "    <tr>\n",
              "      <th>2017-06-06</th>\n",
              "      <td>273592.0</td>\n",
              "      <td>214700</td>\n",
              "      <td>Tuesday</td>\n",
              "      <td>27.0</td>\n",
              "    </tr>\n",
              "    <tr>\n",
              "      <th>2017-08-04</th>\n",
              "      <td>280192.0</td>\n",
              "      <td>376700</td>\n",
              "      <td>Friday</td>\n",
              "      <td>-26.0</td>\n",
              "    </tr>\n",
              "    <tr>\n",
              "      <th>2017-06-06</th>\n",
              "      <td>256501.0</td>\n",
              "      <td>211700</td>\n",
              "      <td>Tuesday</td>\n",
              "      <td>21.0</td>\n",
              "    </tr>\n",
              "  </tbody>\n",
              "</table>\n",
              "</div>\n",
              "      <button class=\"colab-df-convert\" onclick=\"convertToInteractive('df-6bafe83d-a9d2-4c12-b299-20a80e224830')\"\n",
              "              title=\"Convert this dataframe to an interactive table.\"\n",
              "              style=\"display:none;\">\n",
              "        \n",
              "  <svg xmlns=\"http://www.w3.org/2000/svg\" height=\"24px\"viewBox=\"0 0 24 24\"\n",
              "       width=\"24px\">\n",
              "    <path d=\"M0 0h24v24H0V0z\" fill=\"none\"/>\n",
              "    <path d=\"M18.56 5.44l.94 2.06.94-2.06 2.06-.94-2.06-.94-.94-2.06-.94 2.06-2.06.94zm-11 1L8.5 8.5l.94-2.06 2.06-.94-2.06-.94L8.5 2.5l-.94 2.06-2.06.94zm10 10l.94 2.06.94-2.06 2.06-.94-2.06-.94-.94-2.06-.94 2.06-2.06.94z\"/><path d=\"M17.41 7.96l-1.37-1.37c-.4-.4-.92-.59-1.43-.59-.52 0-1.04.2-1.43.59L10.3 9.45l-7.72 7.72c-.78.78-.78 2.05 0 2.83L4 21.41c.39.39.9.59 1.41.59.51 0 1.02-.2 1.41-.59l7.78-7.78 2.81-2.81c.8-.78.8-2.07 0-2.86zM5.41 20L4 18.59l7.72-7.72 1.47 1.35L5.41 20z\"/>\n",
              "  </svg>\n",
              "      </button>\n",
              "      \n",
              "  <style>\n",
              "    .colab-df-container {\n",
              "      display:flex;\n",
              "      flex-wrap:wrap;\n",
              "      gap: 12px;\n",
              "    }\n",
              "\n",
              "    .colab-df-convert {\n",
              "      background-color: #E8F0FE;\n",
              "      border: none;\n",
              "      border-radius: 50%;\n",
              "      cursor: pointer;\n",
              "      display: none;\n",
              "      fill: #1967D2;\n",
              "      height: 32px;\n",
              "      padding: 0 0 0 0;\n",
              "      width: 32px;\n",
              "    }\n",
              "\n",
              "    .colab-df-convert:hover {\n",
              "      background-color: #E2EBFA;\n",
              "      box-shadow: 0px 1px 2px rgba(60, 64, 67, 0.3), 0px 1px 3px 1px rgba(60, 64, 67, 0.15);\n",
              "      fill: #174EA6;\n",
              "    }\n",
              "\n",
              "    [theme=dark] .colab-df-convert {\n",
              "      background-color: #3B4455;\n",
              "      fill: #D2E3FC;\n",
              "    }\n",
              "\n",
              "    [theme=dark] .colab-df-convert:hover {\n",
              "      background-color: #434B5C;\n",
              "      box-shadow: 0px 1px 3px 1px rgba(0, 0, 0, 0.15);\n",
              "      filter: drop-shadow(0px 1px 2px rgba(0, 0, 0, 0.3));\n",
              "      fill: #FFFFFF;\n",
              "    }\n",
              "  </style>\n",
              "\n",
              "      <script>\n",
              "        const buttonEl =\n",
              "          document.querySelector('#df-6bafe83d-a9d2-4c12-b299-20a80e224830 button.colab-df-convert');\n",
              "        buttonEl.style.display =\n",
              "          google.colab.kernel.accessAllowed ? 'block' : 'none';\n",
              "\n",
              "        async function convertToInteractive(key) {\n",
              "          const element = document.querySelector('#df-6bafe83d-a9d2-4c12-b299-20a80e224830');\n",
              "          const dataTable =\n",
              "            await google.colab.kernel.invokeFunction('convertToInteractive',\n",
              "                                                     [key], {});\n",
              "          if (!dataTable) return;\n",
              "\n",
              "          const docLinkHtml = 'Like what you see? Visit the ' +\n",
              "            '<a target=\"_blank\" href=https://colab.research.google.com/notebooks/data_table.ipynb>data table notebook</a>'\n",
              "            + ' to learn more about interactive tables.';\n",
              "          element.innerHTML = '';\n",
              "          dataTable['output_type'] = 'display_data';\n",
              "          await google.colab.output.renderOutput(dataTable, element);\n",
              "          const docLink = document.createElement('div');\n",
              "          docLink.innerHTML = docLinkHtml;\n",
              "          element.appendChild(docLink);\n",
              "        }\n",
              "      </script>\n",
              "    </div>\n",
              "  </div>\n",
              "  "
            ]
          },
          "metadata": {},
          "execution_count": 26
        }
      ]
    },
    {
      "cell_type": "markdown",
      "source": [
        "## XGBoost"
      ],
      "metadata": {
        "id": "qOYjDkB1c7e2"
      }
    },
    {
      "cell_type": "code",
      "source": [
        "xgb_model = XGBRegressor(objective = 'reg:squarederror')\n",
        "xgb_model.fit(X_train, y_train)\n",
        "xgb_pred = xgb_model.predict(X_test)"
      ],
      "metadata": {
        "id": "AUUlmVNMc67N"
      },
      "execution_count": 27,
      "outputs": []
    },
    {
      "cell_type": "code",
      "source": [
        "analyze_model(\"XGBoost\", xgb_pred)"
      ],
      "metadata": {
        "colab": {
          "base_uri": "https://localhost:8080/",
          "height": 446
        },
        "id": "aLOFqoK5dxzT",
        "outputId": "ba807f25-f4b4-4c11-d1d1-71beff80a880"
      },
      "execution_count": 28,
      "outputs": [
        {
          "output_type": "stream",
          "name": "stdout",
          "text": [
            "R2 Score for XGBoost model is: 0.07764137581000874\n",
            "Mean Absolute Error for XGBoost model is: 115372.0\n",
            "Accuracy: 0.9012783779511135\n"
          ]
        },
        {
          "output_type": "execute_result",
          "data": {
            "text/plain": [
              "             XGBoost  True_Values    WeekDay  %Age Error\n",
              "date                                                    \n",
              "2017-09-05  165206.0       182700    Tuesday       -10.0\n",
              "2017-09-03  269028.0        80500     Sunday       234.0\n",
              "2017-07-03  330933.0       265700     Monday        25.0\n",
              "2017-07-05  155122.0       170100  Wednesday        -9.0\n",
              "2017-09-01  307645.0       384700     Friday       -20.0\n",
              "2017-08-01  314074.0       255000    Tuesday        23.0\n",
              "2017-09-02  241683.0       341200   Saturday       -29.0\n",
              "2017-08-04  260283.0       466900     Friday       -44.0\n",
              "2017-07-04  245293.0       135000    Tuesday        82.0\n",
              "2017-09-01  319540.0       467600     Friday       -32.0"
            ],
            "text/html": [
              "\n",
              "  <div id=\"df-5316f0a4-c757-4ed2-9181-4efa080b2b65\">\n",
              "    <div class=\"colab-df-container\">\n",
              "      <div>\n",
              "<style scoped>\n",
              "    .dataframe tbody tr th:only-of-type {\n",
              "        vertical-align: middle;\n",
              "    }\n",
              "\n",
              "    .dataframe tbody tr th {\n",
              "        vertical-align: top;\n",
              "    }\n",
              "\n",
              "    .dataframe thead th {\n",
              "        text-align: right;\n",
              "    }\n",
              "</style>\n",
              "<table border=\"1\" class=\"dataframe\">\n",
              "  <thead>\n",
              "    <tr style=\"text-align: right;\">\n",
              "      <th></th>\n",
              "      <th>XGBoost</th>\n",
              "      <th>True_Values</th>\n",
              "      <th>WeekDay</th>\n",
              "      <th>%Age Error</th>\n",
              "    </tr>\n",
              "    <tr>\n",
              "      <th>date</th>\n",
              "      <th></th>\n",
              "      <th></th>\n",
              "      <th></th>\n",
              "      <th></th>\n",
              "    </tr>\n",
              "  </thead>\n",
              "  <tbody>\n",
              "    <tr>\n",
              "      <th>2017-09-05</th>\n",
              "      <td>165206.0</td>\n",
              "      <td>182700</td>\n",
              "      <td>Tuesday</td>\n",
              "      <td>-10.0</td>\n",
              "    </tr>\n",
              "    <tr>\n",
              "      <th>2017-09-03</th>\n",
              "      <td>269028.0</td>\n",
              "      <td>80500</td>\n",
              "      <td>Sunday</td>\n",
              "      <td>234.0</td>\n",
              "    </tr>\n",
              "    <tr>\n",
              "      <th>2017-07-03</th>\n",
              "      <td>330933.0</td>\n",
              "      <td>265700</td>\n",
              "      <td>Monday</td>\n",
              "      <td>25.0</td>\n",
              "    </tr>\n",
              "    <tr>\n",
              "      <th>2017-07-05</th>\n",
              "      <td>155122.0</td>\n",
              "      <td>170100</td>\n",
              "      <td>Wednesday</td>\n",
              "      <td>-9.0</td>\n",
              "    </tr>\n",
              "    <tr>\n",
              "      <th>2017-09-01</th>\n",
              "      <td>307645.0</td>\n",
              "      <td>384700</td>\n",
              "      <td>Friday</td>\n",
              "      <td>-20.0</td>\n",
              "    </tr>\n",
              "    <tr>\n",
              "      <th>2017-08-01</th>\n",
              "      <td>314074.0</td>\n",
              "      <td>255000</td>\n",
              "      <td>Tuesday</td>\n",
              "      <td>23.0</td>\n",
              "    </tr>\n",
              "    <tr>\n",
              "      <th>2017-09-02</th>\n",
              "      <td>241683.0</td>\n",
              "      <td>341200</td>\n",
              "      <td>Saturday</td>\n",
              "      <td>-29.0</td>\n",
              "    </tr>\n",
              "    <tr>\n",
              "      <th>2017-08-04</th>\n",
              "      <td>260283.0</td>\n",
              "      <td>466900</td>\n",
              "      <td>Friday</td>\n",
              "      <td>-44.0</td>\n",
              "    </tr>\n",
              "    <tr>\n",
              "      <th>2017-07-04</th>\n",
              "      <td>245293.0</td>\n",
              "      <td>135000</td>\n",
              "      <td>Tuesday</td>\n",
              "      <td>82.0</td>\n",
              "    </tr>\n",
              "    <tr>\n",
              "      <th>2017-09-01</th>\n",
              "      <td>319540.0</td>\n",
              "      <td>467600</td>\n",
              "      <td>Friday</td>\n",
              "      <td>-32.0</td>\n",
              "    </tr>\n",
              "  </tbody>\n",
              "</table>\n",
              "</div>\n",
              "      <button class=\"colab-df-convert\" onclick=\"convertToInteractive('df-5316f0a4-c757-4ed2-9181-4efa080b2b65')\"\n",
              "              title=\"Convert this dataframe to an interactive table.\"\n",
              "              style=\"display:none;\">\n",
              "        \n",
              "  <svg xmlns=\"http://www.w3.org/2000/svg\" height=\"24px\"viewBox=\"0 0 24 24\"\n",
              "       width=\"24px\">\n",
              "    <path d=\"M0 0h24v24H0V0z\" fill=\"none\"/>\n",
              "    <path d=\"M18.56 5.44l.94 2.06.94-2.06 2.06-.94-2.06-.94-.94-2.06-.94 2.06-2.06.94zm-11 1L8.5 8.5l.94-2.06 2.06-.94-2.06-.94L8.5 2.5l-.94 2.06-2.06.94zm10 10l.94 2.06.94-2.06 2.06-.94-2.06-.94-.94-2.06-.94 2.06-2.06.94z\"/><path d=\"M17.41 7.96l-1.37-1.37c-.4-.4-.92-.59-1.43-.59-.52 0-1.04.2-1.43.59L10.3 9.45l-7.72 7.72c-.78.78-.78 2.05 0 2.83L4 21.41c.39.39.9.59 1.41.59.51 0 1.02-.2 1.41-.59l7.78-7.78 2.81-2.81c.8-.78.8-2.07 0-2.86zM5.41 20L4 18.59l7.72-7.72 1.47 1.35L5.41 20z\"/>\n",
              "  </svg>\n",
              "      </button>\n",
              "      \n",
              "  <style>\n",
              "    .colab-df-container {\n",
              "      display:flex;\n",
              "      flex-wrap:wrap;\n",
              "      gap: 12px;\n",
              "    }\n",
              "\n",
              "    .colab-df-convert {\n",
              "      background-color: #E8F0FE;\n",
              "      border: none;\n",
              "      border-radius: 50%;\n",
              "      cursor: pointer;\n",
              "      display: none;\n",
              "      fill: #1967D2;\n",
              "      height: 32px;\n",
              "      padding: 0 0 0 0;\n",
              "      width: 32px;\n",
              "    }\n",
              "\n",
              "    .colab-df-convert:hover {\n",
              "      background-color: #E2EBFA;\n",
              "      box-shadow: 0px 1px 2px rgba(60, 64, 67, 0.3), 0px 1px 3px 1px rgba(60, 64, 67, 0.15);\n",
              "      fill: #174EA6;\n",
              "    }\n",
              "\n",
              "    [theme=dark] .colab-df-convert {\n",
              "      background-color: #3B4455;\n",
              "      fill: #D2E3FC;\n",
              "    }\n",
              "\n",
              "    [theme=dark] .colab-df-convert:hover {\n",
              "      background-color: #434B5C;\n",
              "      box-shadow: 0px 1px 3px 1px rgba(0, 0, 0, 0.15);\n",
              "      filter: drop-shadow(0px 1px 2px rgba(0, 0, 0, 0.3));\n",
              "      fill: #FFFFFF;\n",
              "    }\n",
              "  </style>\n",
              "\n",
              "      <script>\n",
              "        const buttonEl =\n",
              "          document.querySelector('#df-5316f0a4-c757-4ed2-9181-4efa080b2b65 button.colab-df-convert');\n",
              "        buttonEl.style.display =\n",
              "          google.colab.kernel.accessAllowed ? 'block' : 'none';\n",
              "\n",
              "        async function convertToInteractive(key) {\n",
              "          const element = document.querySelector('#df-5316f0a4-c757-4ed2-9181-4efa080b2b65');\n",
              "          const dataTable =\n",
              "            await google.colab.kernel.invokeFunction('convertToInteractive',\n",
              "                                                     [key], {});\n",
              "          if (!dataTable) return;\n",
              "\n",
              "          const docLinkHtml = 'Like what you see? Visit the ' +\n",
              "            '<a target=\"_blank\" href=https://colab.research.google.com/notebooks/data_table.ipynb>data table notebook</a>'\n",
              "            + ' to learn more about interactive tables.';\n",
              "          element.innerHTML = '';\n",
              "          dataTable['output_type'] = 'display_data';\n",
              "          await google.colab.output.renderOutput(dataTable, element);\n",
              "          const docLink = document.createElement('div');\n",
              "          docLink.innerHTML = docLinkHtml;\n",
              "          element.appendChild(docLink);\n",
              "        }\n",
              "      </script>\n",
              "    </div>\n",
              "  </div>\n",
              "  "
            ]
          },
          "metadata": {},
          "execution_count": 28
        }
      ]
    },
    {
      "cell_type": "code",
      "source": [
        "xgb_model.feature_importances_"
      ],
      "metadata": {
        "colab": {
          "base_uri": "https://localhost:8080/"
        },
        "id": "Hre9AMPfrb5W",
        "outputId": "628924e3-ecb6-4401-8ac8-f7c373ff6231"
      },
      "execution_count": 29,
      "outputs": [
        {
          "output_type": "execute_result",
          "data": {
            "text/plain": [
              "array([0.1358827 , 0.12763433, 0.02174067, 0.        , 0.05030273,\n",
              "       0.0103267 , 0.00684974, 0.05213656, 0.23522052, 0.01452854,\n",
              "       0.        , 0.00435428, 0.03508108, 0.014968  , 0.        ,\n",
              "       0.        , 0.10204306, 0.03154399, 0.        , 0.02467193,\n",
              "       0.10183282, 0.        , 0.01383517, 0.        , 0.01704713,\n",
              "       0.        , 0.        ], dtype=float32)"
            ]
          },
          "metadata": {},
          "execution_count": 29
        }
      ]
    },
    {
      "cell_type": "code",
      "source": [
        "plt.figure(figsize = (10,10))\n",
        "feature_importance_df = pd.DataFrame({'Columns':X.columns, 'Importance': xgb_model.feature_importances_}).sort_values(by = 'Importance', ascending = False)\n",
        "sns.barplot(data = feature_importance_df[:10], x = 'Importance', y = 'Columns')\n",
        "plt.title(\"Feature Importance of XGBoost Model\", fontsize = 20)\n",
        "plt.show()"
      ],
      "metadata": {
        "colab": {
          "base_uri": "https://localhost:8080/",
          "height": 636
        },
        "id": "TVS-TxFNsq56",
        "outputId": "22e4121f-9816-4787-e159-67c78c6cf982"
      },
      "execution_count": 30,
      "outputs": [
        {
          "output_type": "display_data",
          "data": {
            "text/plain": [
              "<Figure size 720x720 with 1 Axes>"
            ],
            "image/png": "[encoded data removed]"
          },
          "metadata": {}
        }
      ]
    },
    {
      "cell_type": "code",
      "source": [
        "shap_values = shap.TreeExplainer(xgb_model).shap_values(X_test)\n",
        "shap.summary_plot(shap_values, X_test, plot_type=\"bar\")"
      ],
      "metadata": {
        "colab": {
          "base_uri": "https://localhost:8080/",
          "height": 689
        },
        "id": "QYHk7jSguZD8",
        "outputId": "9ae7d12e-c7e4-491a-fb0b-e8352872d688"
      },
      "execution_count": 31,
      "outputs": [
        {
          "output_type": "display_data",
          "data": {
            "text/plain": [
              "<Figure size 576x684 with 1 Axes>"
            ],
            "image/png": "[encoded data removed]"
          },
          "metadata": {}
        }
      ]
    },
    {
      "cell_type": "markdown",
      "source": [
        "## CatBoost"
      ],
      "metadata": {
        "id": "YCD9xfA2qJm1"
      }
    },
    {
      "cell_type": "code",
      "source": [
        "catboost = CatBoostRegressor()\n",
        "catboost.fit(X_train, y_train, eval_set=[(X_test, y_test)],\n",
        "       early_stopping_rounds=10, verbose=50,plot=True)\n",
        "cat_pred = catboost.predict(X_test)"
      ],
      "metadata": {
        "colab": {
          "base_uri": "https://localhost:8080/",
          "height": 191,
          "referenced_widgets": [
            "56414e62794142868402868a3116df9e"
          ]
        },
        "id": "8G4q31fcqMuB",
        "outputId": "fcda199a-1807-46d8-8ae4-a7c27623bbc4"
      },
      "execution_count": 32,
      "outputs": [
        {
          "output_type": "display_data",
          "data": {
            "text/plain": [
              "MetricVisualizer(layout=Layout(align_self='stretch', height='500px'))"
            ],
            "application/vnd.jupyter.widget-view+json": {
              "version_major": 2,
              "version_minor": 0,
              "model_id": "56414e62794142868402868a3116df9e"
            }
          },
          "metadata": {}
        },
        {
          "output_type": "stream",
          "name": "stdout",
          "text": [
            "Learning rate set to 0.057343\n",
            "0:\tlearn: 244809.4894410\ttest: 311384.8882293\tbest: 311384.8882293 (0)\ttotal: 47.5ms\tremaining: 47.5s\n",
            "50:\tlearn: 169021.8201435\ttest: 147125.2723660\tbest: 147125.2723660 (50)\ttotal: 113ms\tremaining: 2.1s\n",
            "100:\tlearn: 160178.7287613\ttest: 144346.2137107\tbest: 144148.1100463 (98)\ttotal: 167ms\tremaining: 1.49s\n",
            "Stopped by overfitting detector  (10 iterations wait)\n",
            "\n",
            "bestTest = 144148.11\n",
            "bestIteration = 98\n",
            "\n",
            "Shrink model to first 99 iterations.\n"
          ]
        }
      ]
    },
    {
      "cell_type": "code",
      "source": [
        "analyze_model('CatBoost', cat_pred)"
      ],
      "metadata": {
        "colab": {
          "base_uri": "https://localhost:8080/",
          "height": 446
        },
        "id": "kgBn0T1qwCjL",
        "outputId": "c1474fef-ba50-419a-def3-759e9d2b7c3d"
      },
      "execution_count": 33,
      "outputs": [
        {
          "output_type": "stream",
          "name": "stdout",
          "text": [
            "R2 Score for CatBoost model is: 0.13218428252308845\n",
            "Mean Absolute Error for CatBoost model is: 109616.0\n",
            "Accuracy: 0.9086288198019796\n"
          ]
        },
        {
          "output_type": "execute_result",
          "data": {
            "text/plain": [
              "            CatBoost  True_Values    WeekDay  %Age Error\n",
              "date                                                    \n",
              "2017-07-05  244238.0       211800  Wednesday        15.0\n",
              "2017-06-06  226299.0       214700    Tuesday         5.0\n",
              "2017-09-02  340261.0       161500   Saturday       111.0\n",
              "2017-08-04  239975.0       105200     Friday       128.0\n",
              "2017-07-05  244867.0       190500  Wednesday        29.0\n",
              "2017-09-04  241149.0       398600     Monday       -40.0\n",
              "2017-06-06  221690.0       211700    Tuesday         5.0\n",
              "2017-06-02  366069.0       647900     Friday       -43.0\n",
              "2017-09-04  240726.0       308400     Monday       -22.0\n",
              "2017-06-04  180819.0        35400     Sunday       411.0"
            ],
            "text/html": [
              "\n",
              "  <div id=\"df-a0d0bac3-4de2-4e9d-b075-02ae0edbaa36\">\n",
              "    <div class=\"colab-df-container\">\n",
              "      <div>\n",
              "<style scoped>\n",
              "    .dataframe tbody tr th:only-of-type {\n",
              "        vertical-align: middle;\n",
              "    }\n",
              "\n",
              "    .dataframe tbody tr th {\n",
              "        vertical-align: top;\n",
              "    }\n",
              "\n",
              "    .dataframe thead th {\n",
              "        text-align: right;\n",
              "    }\n",
              "</style>\n",
              "<table border=\"1\" class=\"dataframe\">\n",
              "  <thead>\n",
              "    <tr style=\"text-align: right;\">\n",
              "      <th></th>\n",
              "      <th>CatBoost</th>\n",
              "      <th>True_Values</th>\n",
              "      <th>WeekDay</th>\n",
              "      <th>%Age Error</th>\n",
              "    </tr>\n",
              "    <tr>\n",
              "      <th>date</th>\n",
              "      <th></th>\n",
              "      <th></th>\n",
              "      <th></th>\n",
              "      <th></th>\n",
              "    </tr>\n",
              "  </thead>\n",
              "  <tbody>\n",
              "    <tr>\n",
              "      <th>2017-07-05</th>\n",
              "      <td>244238.0</td>\n",
              "      <td>211800</td>\n",
              "      <td>Wednesday</td>\n",
              "      <td>15.0</td>\n",
              "    </tr>\n",
              "    <tr>\n",
              "      <th>2017-06-06</th>\n",
              "      <td>226299.0</td>\n",
              "      <td>214700</td>\n",
              "      <td>Tuesday</td>\n",
              "      <td>5.0</td>\n",
              "    </tr>\n",
              "    <tr>\n",
              "      <th>2017-09-02</th>\n",
              "      <td>340261.0</td>\n",
              "      <td>161500</td>\n",
              "      <td>Saturday</td>\n",
              "      <td>111.0</td>\n",
              "    </tr>\n",
              "    <tr>\n",
              "      <th>2017-08-04</th>\n",
              "      <td>239975.0</td>\n",
              "      <td>105200</td>\n",
              "      <td>Friday</td>\n",
              "      <td>128.0</td>\n",
              "    </tr>\n",
              "    <tr>\n",
              "      <th>2017-07-05</th>\n",
              "      <td>244867.0</td>\n",
              "      <td>190500</td>\n",
              "      <td>Wednesday</td>\n",
              "      <td>29.0</td>\n",
              "    </tr>\n",
              "    <tr>\n",
              "      <th>2017-09-04</th>\n",
              "      <td>241149.0</td>\n",
              "      <td>398600</td>\n",
              "      <td>Monday</td>\n",
              "      <td>-40.0</td>\n",
              "    </tr>\n",
              "    <tr>\n",
              "      <th>2017-06-06</th>\n",
              "      <td>221690.0</td>\n",
              "      <td>211700</td>\n",
              "      <td>Tuesday</td>\n",
              "      <td>5.0</td>\n",
              "    </tr>\n",
              "    <tr>\n",
              "      <th>2017-06-02</th>\n",
              "      <td>366069.0</td>\n",
              "      <td>647900</td>\n",
              "      <td>Friday</td>\n",
              "      <td>-43.0</td>\n",
              "    </tr>\n",
              "    <tr>\n",
              "      <th>2017-09-04</th>\n",
              "      <td>240726.0</td>\n",
              "      <td>308400</td>\n",
              "      <td>Monday</td>\n",
              "      <td>-22.0</td>\n",
              "    </tr>\n",
              "    <tr>\n",
              "      <th>2017-06-04</th>\n",
              "      <td>180819.0</td>\n",
              "      <td>35400</td>\n",
              "      <td>Sunday</td>\n",
              "      <td>411.0</td>\n",
              "    </tr>\n",
              "  </tbody>\n",
              "</table>\n",
              "</div>\n",
              "      <button class=\"colab-df-convert\" onclick=\"convertToInteractive('df-a0d0bac3-4de2-4e9d-b075-02ae0edbaa36')\"\n",
              "              title=\"Convert this dataframe to an interactive table.\"\n",
              "              style=\"display:none;\">\n",
              "        \n",
              "  <svg xmlns=\"http://www.w3.org/2000/svg\" height=\"24px\"viewBox=\"0 0 24 24\"\n",
              "       width=\"24px\">\n",
              "    <path d=\"M0 0h24v24H0V0z\" fill=\"none\"/>\n",
              "    <path d=\"M18.56 5.44l.94 2.06.94-2.06 2.06-.94-2.06-.94-.94-2.06-.94 2.06-2.06.94zm-11 1L8.5 8.5l.94-2.06 2.06-.94-2.06-.94L8.5 2.5l-.94 2.06-2.06.94zm10 10l.94 2.06.94-2.06 2.06-.94-2.06-.94-.94-2.06-.94 2.06-2.06.94z\"/><path d=\"M17.41 7.96l-1.37-1.37c-.4-.4-.92-.59-1.43-.59-.52 0-1.04.2-1.43.59L10.3 9.45l-7.72 7.72c-.78.78-.78 2.05 0 2.83L4 21.41c.39.39.9.59 1.41.59.51 0 1.02-.2 1.41-.59l7.78-7.78 2.81-2.81c.8-.78.8-2.07 0-2.86zM5.41 20L4 18.59l7.72-7.72 1.47 1.35L5.41 20z\"/>\n",
              "  </svg>\n",
              "      </button>\n",
              "      \n",
              "  <style>\n",
              "    .colab-df-container {\n",
              "      display:flex;\n",
              "      flex-wrap:wrap;\n",
              "      gap: 12px;\n",
              "    }\n",
              "\n",
              "    .colab-df-convert {\n",
              "      background-color: #E8F0FE;\n",
              "      border: none;\n",
              "      border-radius: 50%;\n",
              "      cursor: pointer;\n",
              "      display: none;\n",
              "      fill: #1967D2;\n",
              "      height: 32px;\n",
              "      padding: 0 0 0 0;\n",
              "      width: 32px;\n",
              "    }\n",
              "\n",
              "    .colab-df-convert:hover {\n",
              "      background-color: #E2EBFA;\n",
              "      box-shadow: 0px 1px 2px rgba(60, 64, 67, 0.3), 0px 1px 3px 1px rgba(60, 64, 67, 0.15);\n",
              "      fill: #174EA6;\n",
              "    }\n",
              "\n",
              "    [theme=dark] .colab-df-convert {\n",
              "      background-color: #3B4455;\n",
              "      fill: #D2E3FC;\n",
              "    }\n",
              "\n",
              "    [theme=dark] .colab-df-convert:hover {\n",
              "      background-color: #434B5C;\n",
              "      box-shadow: 0px 1px 3px 1px rgba(0, 0, 0, 0.15);\n",
              "      filter: drop-shadow(0px 1px 2px rgba(0, 0, 0, 0.3));\n",
              "      fill: #FFFFFF;\n",
              "    }\n",
              "  </style>\n",
              "\n",
              "      <script>\n",
              "        const buttonEl =\n",
              "          document.querySelector('#df-a0d0bac3-4de2-4e9d-b075-02ae0edbaa36 button.colab-df-convert');\n",
              "        buttonEl.style.display =\n",
              "          google.colab.kernel.accessAllowed ? 'block' : 'none';\n",
              "\n",
              "        async function convertToInteractive(key) {\n",
              "          const element = document.querySelector('#df-a0d0bac3-4de2-4e9d-b075-02ae0edbaa36');\n",
              "          const dataTable =\n",
              "            await google.colab.kernel.invokeFunction('convertToInteractive',\n",
              "                                                     [key], {});\n",
              "          if (!dataTable) return;\n",
              "\n",
              "          const docLinkHtml = 'Like what you see? Visit the ' +\n",
              "            '<a target=\"_blank\" href=https://colab.research.google.com/notebooks/data_table.ipynb>data table notebook</a>'\n",
              "            + ' to learn more about interactive tables.';\n",
              "          element.innerHTML = '';\n",
              "          dataTable['output_type'] = 'display_data';\n",
              "          await google.colab.output.renderOutput(dataTable, element);\n",
              "          const docLink = document.createElement('div');\n",
              "          docLink.innerHTML = docLinkHtml;\n",
              "          element.appendChild(docLink);\n",
              "        }\n",
              "      </script>\n",
              "    </div>\n",
              "  </div>\n",
              "  "
            ]
          },
          "metadata": {},
          "execution_count": 33
        }
      ]
    },
    {
      "cell_type": "code",
      "source": [
        "plt.figure(figsize = (10,10))\n",
        "feature_importance_df = pd.DataFrame({'Columns':X.columns, 'Importance': catboost.feature_importances_}).sort_values(by = 'Importance', ascending = False)\n",
        "sns.barplot(data = feature_importance_df[:10], x = 'Importance', y = 'Columns')\n",
        "plt.title(\"Feature Importance of CatBoost Model\", fontsize = 20)\n",
        "plt.show()"
      ],
      "metadata": {
        "colab": {
          "base_uri": "https://localhost:8080/",
          "height": 636
        },
        "id": "_gBzyPhDwgnd",
        "outputId": "850ef3a4-9b0c-4d40-c90a-bcd9329c9c0e"
      },
      "execution_count": 34,
      "outputs": [
        {
          "output_type": "display_data",
          "data": {
            "text/plain": [
              "<Figure size 720x720 with 1 Axes>"
            ],
            "image/png": "[encoded data removed]"
          },
          "metadata": {}
        }
      ]
    },
    {
      "cell_type": "markdown",
      "source": [
        "## FBProphet"
      ],
      "metadata": {
        "id": "uCJh3ZVnxWvN"
      }
    },
    {
      "cell_type": "code",
      "source": [
        "# Preparing Data for FBProphet\n",
        "fb_prophet_data = pd.DataFrame(y_train).copy()\n",
        "fb_prophet_data['ds'] = fb_prophet_data.index\n",
        "fb_prophet_data['y'] = fb_prophet_data['total_amount_withdrawn']\n",
        "del fb_prophet_data['total_amount_withdrawn']\n",
        "fb_prophet_data.head()"
      ],
      "metadata": {
        "colab": {
          "base_uri": "https://localhost:8080/",
          "height": 238
        },
        "id": "64rSvwVo4FUY",
        "outputId": "50a069a5-850d-4cc7-a044-ad5ad8be82c4"
      },
      "execution_count": 42,
      "outputs": [
        {
          "output_type": "execute_result",
          "data": {
            "text/plain": [
              "                   ds       y\n",
              "date                         \n",
              "2011-01-01 2011-01-01  897100\n",
              "2011-01-01 2011-01-01  826000\n",
              "2011-01-01 2011-01-01  754400\n",
              "2011-01-02 2011-01-02  834200\n",
              "2011-01-02 2011-01-02  575300"
            ],
            "text/html": [
              "\n",
              "  <div id=\"df-ea9461ee-ca97-49c7-9605-549497c1167c\">\n",
              "    <div class=\"colab-df-container\">\n",
              "      <div>\n",
              "<style scoped>\n",
              "    .dataframe tbody tr th:only-of-type {\n",
              "        vertical-align: middle;\n",
              "    }\n",
              "\n",
              "    .dataframe tbody tr th {\n",
              "        vertical-align: top;\n",
              "    }\n",
              "\n",
              "    .dataframe thead th {\n",
              "        text-align: right;\n",
              "    }\n",
              "</style>\n",
              "<table border=\"1\" class=\"dataframe\">\n",
              "  <thead>\n",
              "    <tr style=\"text-align: right;\">\n",
              "      <th></th>\n",
              "      <th>ds</th>\n",
              "      <th>y</th>\n",
              "    </tr>\n",
              "    <tr>\n",
              "      <th>date</th>\n",
              "      <th></th>\n",
              "      <th></th>\n",
              "    </tr>\n",
              "  </thead>\n",
              "  <tbody>\n",
              "    <tr>\n",
              "      <th>2011-01-01</th>\n",
              "      <td>2011-01-01</td>\n",
              "      <td>897100</td>\n",
              "    </tr>\n",
              "    <tr>\n",
              "      <th>2011-01-01</th>\n",
              "      <td>2011-01-01</td>\n",
              "      <td>826000</td>\n",
              "    </tr>\n",
              "    <tr>\n",
              "      <th>2011-01-01</th>\n",
              "      <td>2011-01-01</td>\n",
              "      <td>754400</td>\n",
              "    </tr>\n",
              "    <tr>\n",
              "      <th>2011-01-02</th>\n",
              "      <td>2011-01-02</td>\n",
              "      <td>834200</td>\n",
              "    </tr>\n",
              "    <tr>\n",
              "      <th>2011-01-02</th>\n",
              "      <td>2011-01-02</td>\n",
              "      <td>575300</td>\n",
              "    </tr>\n",
              "  </tbody>\n",
              "</table>\n",
              "</div>\n",
              "      <button class=\"colab-df-convert\" onclick=\"convertToInteractive('df-ea9461ee-ca97-49c7-9605-549497c1167c')\"\n",
              "              title=\"Convert this dataframe to an interactive table.\"\n",
              "              style=\"display:none;\">\n",
              "        \n",
              "  <svg xmlns=\"http://www.w3.org/2000/svg\" height=\"24px\"viewBox=\"0 0 24 24\"\n",
              "       width=\"24px\">\n",
              "    <path d=\"M0 0h24v24H0V0z\" fill=\"none\"/>\n",
              "    <path d=\"M18.56 5.44l.94 2.06.94-2.06 2.06-.94-2.06-.94-.94-2.06-.94 2.06-2.06.94zm-11 1L8.5 8.5l.94-2.06 2.06-.94-2.06-.94L8.5 2.5l-.94 2.06-2.06.94zm10 10l.94 2.06.94-2.06 2.06-.94-2.06-.94-.94-2.06-.94 2.06-2.06.94z\"/><path d=\"M17.41 7.96l-1.37-1.37c-.4-.4-.92-.59-1.43-.59-.52 0-1.04.2-1.43.59L10.3 9.45l-7.72 7.72c-.78.78-.78 2.05 0 2.83L4 21.41c.39.39.9.59 1.41.59.51 0 1.02-.2 1.41-.59l7.78-7.78 2.81-2.81c.8-.78.8-2.07 0-2.86zM5.41 20L4 18.59l7.72-7.72 1.47 1.35L5.41 20z\"/>\n",
              "  </svg>\n",
              "      </button>\n",
              "      \n",
              "  <style>\n",
              "    .colab-df-container {\n",
              "      display:flex;\n",
              "      flex-wrap:wrap;\n",
              "      gap: 12px;\n",
              "    }\n",
              "\n",
              "    .colab-df-convert {\n",
              "      background-color: #E8F0FE;\n",
              "      border: none;\n",
              "      border-radius: 50%;\n",
              "      cursor: pointer;\n",
              "      display: none;\n",
              "      fill: #1967D2;\n",
              "      height: 32px;\n",
              "      padding: 0 0 0 0;\n",
              "      width: 32px;\n",
              "    }\n",
              "\n",
              "    .colab-df-convert:hover {\n",
              "      background-color: #E2EBFA;\n",
              "      box-shadow: 0px 1px 2px rgba(60, 64, 67, 0.3), 0px 1px 3px 1px rgba(60, 64, 67, 0.15);\n",
              "      fill: #174EA6;\n",
              "    }\n",
              "\n",
              "    [theme=dark] .colab-df-convert {\n",
              "      background-color: #3B4455;\n",
              "      fill: #D2E3FC;\n",
              "    }\n",
              "\n",
              "    [theme=dark] .colab-df-convert:hover {\n",
              "      background-color: #434B5C;\n",
              "      box-shadow: 0px 1px 3px 1px rgba(0, 0, 0, 0.15);\n",
              "      filter: drop-shadow(0px 1px 2px rgba(0, 0, 0, 0.3));\n",
              "      fill: #FFFFFF;\n",
              "    }\n",
              "  </style>\n",
              "\n",
              "      <script>\n",
              "        const buttonEl =\n",
              "          document.querySelector('#df-ea9461ee-ca97-49c7-9605-549497c1167c button.colab-df-convert');\n",
              "        buttonEl.style.display =\n",
              "          google.colab.kernel.accessAllowed ? 'block' : 'none';\n",
              "\n",
              "        async function convertToInteractive(key) {\n",
              "          const element = document.querySelector('#df-ea9461ee-ca97-49c7-9605-549497c1167c');\n",
              "          const dataTable =\n",
              "            await google.colab.kernel.invokeFunction('convertToInteractive',\n",
              "                                                     [key], {});\n",
              "          if (!dataTable) return;\n",
              "\n",
              "          const docLinkHtml = 'Like what you see? Visit the ' +\n",
              "            '<a target=\"_blank\" href=https://colab.research.google.com/notebooks/data_table.ipynb>data table notebook</a>'\n",
              "            + ' to learn more about interactive tables.';\n",
              "          element.innerHTML = '';\n",
              "          dataTable['output_type'] = 'display_data';\n",
              "          await google.colab.output.renderOutput(dataTable, element);\n",
              "          const docLink = document.createElement('div');\n",
              "          docLink.innerHTML = docLinkHtml;\n",
              "          element.appendChild(docLink);\n",
              "        }\n",
              "      </script>\n",
              "    </div>\n",
              "  </div>\n",
              "  "
            ]
          },
          "metadata": {},
          "execution_count": 42
        }
      ]
    },
    {
      "cell_type": "code",
      "source": [
        "y_test.tail()"
      ],
      "metadata": {
        "colab": {
          "base_uri": "https://localhost:8080/"
        },
        "id": "Jq8YeB9d7OO0",
        "outputId": "e0a03e74-3e3f-4366-f05f-45aa7b542493"
      },
      "execution_count": 46,
      "outputs": [
        {
          "output_type": "execute_result",
          "data": {
            "text/plain": [
              "date\n",
              "2017-09-05    447400\n",
              "2017-09-06    153800\n",
              "2017-09-06    167100\n",
              "2017-09-06    317400\n",
              "2017-09-06    305100\n",
              "Name: total_amount_withdrawn, dtype: int64"
            ]
          },
          "metadata": {},
          "execution_count": 46
        }
      ]
    },
    {
      "cell_type": "code",
      "source": [
        "fb_prophet = Prophet()\n",
        "fb_prophet.fit(fb_prophet_data)"
      ],
      "metadata": {
        "id": "EdVjX4RrxcRQ"
      },
      "execution_count": null,
      "outputs": []
    },
    {
      "cell_type": "code",
      "source": [
        "fb_prophet_test = pd.DataFrame({'ds': y_test.index})\n",
        "prophet_pred = fb_prophet.predict(fb_prophet_test)"
      ],
      "metadata": {
        "id": "7nwAD59U7Dwa"
      },
      "execution_count": 51,
      "outputs": []
    },
    {
      "cell_type": "code",
      "source": [
        "analyze_model(\"FB Prophet\", np.array(prophet_pred['yhat']))"
      ],
      "metadata": {
        "colab": {
          "base_uri": "https://localhost:8080/",
          "height": 446
        },
        "id": "EZz5hJk19p2R",
        "outputId": "34ee9019-6eef-4f44-b067-96438b9f457b"
      },
      "execution_count": 61,
      "outputs": [
        {
          "output_type": "stream",
          "name": "stdout",
          "text": [
            "R2 Score for FB Prophet model is: -0.5626418353859934\n",
            "Mean Absolute Error for FB Prophet model is: 135573.0\n",
            "Accuracy: 1.7127558903819742\n"
          ]
        },
        {
          "output_type": "execute_result",
          "data": {
            "text/plain": [
              "            FB Prophet  True_Values    WeekDay  %Age Error\n",
              "date                                                      \n",
              "2017-09-03    140566.0       188200     Sunday       -25.0\n",
              "2017-06-04    198350.0       138000     Sunday        44.0\n",
              "2017-06-04    198350.0        35400     Sunday       460.0\n",
              "2017-08-01    116712.0       382100    Tuesday       -69.0\n",
              "2017-06-05    167547.0       170200     Monday        -2.0\n",
              "2017-07-05    124721.0       211800  Wednesday       -41.0\n",
              "2017-09-02    114266.0       341200   Saturday       -67.0\n",
              "2017-09-02    114266.0       158200   Saturday       -28.0\n",
              "2017-08-04    124029.0       105200     Friday        18.0\n",
              "2017-07-06    145511.0       195200   Thursday       -25.0"
            ],
            "text/html": [
              "\n",
              "  <div id=\"df-c04adab3-2a9e-477c-b16b-4d09e7841fed\">\n",
              "    <div class=\"colab-df-container\">\n",
              "      <div>\n",
              "<style scoped>\n",
              "    .dataframe tbody tr th:only-of-type {\n",
              "        vertical-align: middle;\n",
              "    }\n",
              "\n",
              "    .dataframe tbody tr th {\n",
              "        vertical-align: top;\n",
              "    }\n",
              "\n",
              "    .dataframe thead th {\n",
              "        text-align: right;\n",
              "    }\n",
              "</style>\n",
              "<table border=\"1\" class=\"dataframe\">\n",
              "  <thead>\n",
              "    <tr style=\"text-align: right;\">\n",
              "      <th></th>\n",
              "      <th>FB Prophet</th>\n",
              "      <th>True_Values</th>\n",
              "      <th>WeekDay</th>\n",
              "      <th>%Age Error</th>\n",
              "    </tr>\n",
              "    <tr>\n",
              "      <th>date</th>\n",
              "      <th></th>\n",
              "      <th></th>\n",
              "      <th></th>\n",
              "      <th></th>\n",
              "    </tr>\n",
              "  </thead>\n",
              "  <tbody>\n",
              "    <tr>\n",
              "      <th>2017-09-03</th>\n",
              "      <td>140566.0</td>\n",
              "      <td>188200</td>\n",
              "      <td>Sunday</td>\n",
              "      <td>-25.0</td>\n",
              "    </tr>\n",
              "    <tr>\n",
              "      <th>2017-06-04</th>\n",
              "      <td>198350.0</td>\n",
              "      <td>138000</td>\n",
              "      <td>Sunday</td>\n",
              "      <td>44.0</td>\n",
              "    </tr>\n",
              "    <tr>\n",
              "      <th>2017-06-04</th>\n",
              "      <td>198350.0</td>\n",
              "      <td>35400</td>\n",
              "      <td>Sunday</td>\n",
              "      <td>460.0</td>\n",
              "    </tr>\n",
              "    <tr>\n",
              "      <th>2017-08-01</th>\n",
              "      <td>116712.0</td>\n",
              "      <td>382100</td>\n",
              "      <td>Tuesday</td>\n",
              "      <td>-69.0</td>\n",
              "    </tr>\n",
              "    <tr>\n",
              "      <th>2017-06-05</th>\n",
              "      <td>167547.0</td>\n",
              "      <td>170200</td>\n",
              "      <td>Monday</td>\n",
              "      <td>-2.0</td>\n",
              "    </tr>\n",
              "    <tr>\n",
              "      <th>2017-07-05</th>\n",
              "      <td>124721.0</td>\n",
              "      <td>211800</td>\n",
              "      <td>Wednesday</td>\n",
              "      <td>-41.0</td>\n",
              "    </tr>\n",
              "    <tr>\n",
              "      <th>2017-09-02</th>\n",
              "      <td>114266.0</td>\n",
              "      <td>341200</td>\n",
              "      <td>Saturday</td>\n",
              "      <td>-67.0</td>\n",
              "    </tr>\n",
              "    <tr>\n",
              "      <th>2017-09-02</th>\n",
              "      <td>114266.0</td>\n",
              "      <td>158200</td>\n",
              "      <td>Saturday</td>\n",
              "      <td>-28.0</td>\n",
              "    </tr>\n",
              "    <tr>\n",
              "      <th>2017-08-04</th>\n",
              "      <td>124029.0</td>\n",
              "      <td>105200</td>\n",
              "      <td>Friday</td>\n",
              "      <td>18.0</td>\n",
              "    </tr>\n",
              "    <tr>\n",
              "      <th>2017-07-06</th>\n",
              "      <td>145511.0</td>\n",
              "      <td>195200</td>\n",
              "      <td>Thursday</td>\n",
              "      <td>-25.0</td>\n",
              "    </tr>\n",
              "  </tbody>\n",
              "</table>\n",
              "</div>\n",
              "      <button class=\"colab-df-convert\" onclick=\"convertToInteractive('df-c04adab3-2a9e-477c-b16b-4d09e7841fed')\"\n",
              "              title=\"Convert this dataframe to an interactive table.\"\n",
              "              style=\"display:none;\">\n",
              "        \n",
              "  <svg xmlns=\"http://www.w3.org/2000/svg\" height=\"24px\"viewBox=\"0 0 24 24\"\n",
              "       width=\"24px\">\n",
              "    <path d=\"M0 0h24v24H0V0z\" fill=\"none\"/>\n",
              "    <path d=\"M18.56 5.44l.94 2.06.94-2.06 2.06-.94-2.06-.94-.94-2.06-.94 2.06-2.06.94zm-11 1L8.5 8.5l.94-2.06 2.06-.94-2.06-.94L8.5 2.5l-.94 2.06-2.06.94zm10 10l.94 2.06.94-2.06 2.06-.94-2.06-.94-.94-2.06-.94 2.06-2.06.94z\"/><path d=\"M17.41 7.96l-1.37-1.37c-.4-.4-.92-.59-1.43-.59-.52 0-1.04.2-1.43.59L10.3 9.45l-7.72 7.72c-.78.78-.78 2.05 0 2.83L4 21.41c.39.39.9.59 1.41.59.51 0 1.02-.2 1.41-.59l7.78-7.78 2.81-2.81c.8-.78.8-2.07 0-2.86zM5.41 20L4 18.59l7.72-7.72 1.47 1.35L5.41 20z\"/>\n",
              "  </svg>\n",
              "      </button>\n",
              "      \n",
              "  <style>\n",
              "    .colab-df-container {\n",
              "      display:flex;\n",
              "      flex-wrap:wrap;\n",
              "      gap: 12px;\n",
              "    }\n",
              "\n",
              "    .colab-df-convert {\n",
              "      background-color: #E8F0FE;\n",
              "      border: none;\n",
              "      border-radius: 50%;\n",
              "      cursor: pointer;\n",
              "      display: none;\n",
              "      fill: #1967D2;\n",
              "      height: 32px;\n",
              "      padding: 0 0 0 0;\n",
              "      width: 32px;\n",
              "    }\n",
              "\n",
              "    .colab-df-convert:hover {\n",
              "      background-color: #E2EBFA;\n",
              "      box-shadow: 0px 1px 2px rgba(60, 64, 67, 0.3), 0px 1px 3px 1px rgba(60, 64, 67, 0.15);\n",
              "      fill: #174EA6;\n",
              "    }\n",
              "\n",
              "    [theme=dark] .colab-df-convert {\n",
              "      background-color: #3B4455;\n",
              "      fill: #D2E3FC;\n",
              "    }\n",
              "\n",
              "    [theme=dark] .colab-df-convert:hover {\n",
              "      background-color: #434B5C;\n",
              "      box-shadow: 0px 1px 3px 1px rgba(0, 0, 0, 0.15);\n",
              "      filter: drop-shadow(0px 1px 2px rgba(0, 0, 0, 0.3));\n",
              "      fill: #FFFFFF;\n",
              "    }\n",
              "  </style>\n",
              "\n",
              "      <script>\n",
              "        const buttonEl =\n",
              "          document.querySelector('#df-c04adab3-2a9e-477c-b16b-4d09e7841fed button.colab-df-convert');\n",
              "        buttonEl.style.display =\n",
              "          google.colab.kernel.accessAllowed ? 'block' : 'none';\n",
              "\n",
              "        async function convertToInteractive(key) {\n",
              "          const element = document.querySelector('#df-c04adab3-2a9e-477c-b16b-4d09e7841fed');\n",
              "          const dataTable =\n",
              "            await google.colab.kernel.invokeFunction('convertToInteractive',\n",
              "                                                     [key], {});\n",
              "          if (!dataTable) return;\n",
              "\n",
              "          const docLinkHtml = 'Like what you see? Visit the ' +\n",
              "            '<a target=\"_blank\" href=https://colab.research.google.com/notebooks/data_table.ipynb>data table notebook</a>'\n",
              "            + ' to learn more about interactive tables.';\n",
              "          element.innerHTML = '';\n",
              "          dataTable['output_type'] = 'display_data';\n",
              "          await google.colab.output.renderOutput(dataTable, element);\n",
              "          const docLink = document.createElement('div');\n",
              "          docLink.innerHTML = docLinkHtml;\n",
              "          element.appendChild(docLink);\n",
              "        }\n",
              "      </script>\n",
              "    </div>\n",
              "  </div>\n",
              "  "
            ]
          },
          "metadata": {},
          "execution_count": 61
        }
      ]
    },
    {
      "cell_type": "markdown",
      "source": [
        "# Final Report"
      ],
      "metadata": {
        "id": "GL0Igs3a-jzv"
      }
    },
    {
      "cell_type": "code",
      "source": [
        "models_report = {\n",
        "    'Linear Regression': np.round(lr_pred,0),\n",
        "    'Decision Tree': dt_pred,\n",
        "    'Random Forest': np.round(rf_pred,0),\n",
        "    'XGBoost': np.round(xgb_pred,0),\n",
        "    'CatBoost': np.round(cat_pred,0),\n",
        "    'FbProphet': np.round(np.array(prophet_pred['yhat']),0),\n",
        "    'True Value': y_test    \n",
        "}\n",
        "model_report_df = pd.DataFrame(models_report)\n",
        "model_report_df.set_index(y_test.index, inplace = True)\n",
        "model_report_df.sample(10)"
      ],
      "metadata": {
        "colab": {
          "base_uri": "https://localhost:8080/",
          "height": 394
        },
        "id": "WXMdTvdU-mD3",
        "outputId": "be39c327-d050-4ada-8449-41ce75a5c36e"
      },
      "execution_count": 67,
      "outputs": [
        {
          "output_type": "execute_result",
          "data": {
            "text/plain": [
              "            Linear Regression  Decision Tree  Random Forest   XGBoost  \\\n",
              "date                                                                    \n",
              "2017-08-01           267625.0       449100.0       280115.0  287346.0   \n",
              "2017-08-06           120485.0       231100.0       257770.0  233845.0   \n",
              "2017-06-04           153096.0       365900.0       307176.0  291647.0   \n",
              "2017-08-05           226890.0       231100.0       273817.0  287274.0   \n",
              "2017-09-06           146934.0       231100.0       265518.0  275992.0   \n",
              "2017-09-05           240208.0        29500.0       244293.0  193861.0   \n",
              "2017-08-06           162463.0        29500.0       270365.0  260894.0   \n",
              "2017-07-03           331986.0       473000.0       301448.0  301470.0   \n",
              "2017-06-06            18968.0       221600.0       256501.0  159436.0   \n",
              "2017-09-05           212182.0       231100.0       265637.0  272725.0   \n",
              "\n",
              "            CatBoost  FbProphet  True Value  \n",
              "date                                         \n",
              "2017-08-01  296310.0   116712.0      225400  \n",
              "2017-08-06  241148.0   170774.0      238500  \n",
              "2017-06-04  246551.0   198350.0      138000  \n",
              "2017-08-05  258753.0   141579.0      204500  \n",
              "2017-09-06  257353.0    88693.0      153800  \n",
              "2017-09-05  224146.0   108382.0      251100  \n",
              "2017-08-06  296827.0   170774.0      216400  \n",
              "2017-07-03  282361.0   157200.0      118200  \n",
              "2017-06-06  221690.0   186730.0      211700  \n",
              "2017-09-05  258890.0   108382.0      447400  "
            ],
            "text/html": [
              "\n",
              "  <div id=\"df-b6230502-5a43-40e5-91e7-c133f8230ccb\">\n",
              "    <div class=\"colab-df-container\">\n",
              "      <div>\n",
              "<style scoped>\n",
              "    .dataframe tbody tr th:only-of-type {\n",
              "        vertical-align: middle;\n",
              "    }\n",
              "\n",
              "    .dataframe tbody tr th {\n",
              "        vertical-align: top;\n",
              "    }\n",
              "\n",
              "    .dataframe thead th {\n",
              "        text-align: right;\n",
              "    }\n",
              "</style>\n",
              "<table border=\"1\" class=\"dataframe\">\n",
              "  <thead>\n",
              "    <tr style=\"text-align: right;\">\n",
              "      <th></th>\n",
              "      <th>Linear Regression</th>\n",
              "      <th>Decision Tree</th>\n",
              "      <th>Random Forest</th>\n",
              "      <th>XGBoost</th>\n",
              "      <th>CatBoost</th>\n",
              "      <th>FbProphet</th>\n",
              "      <th>True Value</th>\n",
              "    </tr>\n",
              "    <tr>\n",
              "      <th>date</th>\n",
              "      <th></th>\n",
              "      <th></th>\n",
              "      <th></th>\n",
              "      <th></th>\n",
              "      <th></th>\n",
              "      <th></th>\n",
              "      <th></th>\n",
              "    </tr>\n",
              "  </thead>\n",
              "  <tbody>\n",
              "    <tr>\n",
              "      <th>2017-08-01</th>\n",
              "      <td>267625.0</td>\n",
              "      <td>449100.0</td>\n",
              "      <td>280115.0</td>\n",
              "      <td>287346.0</td>\n",
              "      <td>296310.0</td>\n",
              "      <td>116712.0</td>\n",
              "      <td>225400</td>\n",
              "    </tr>\n",
              "    <tr>\n",
              "      <th>2017-08-06</th>\n",
              "      <td>120485.0</td>\n",
              "      <td>231100.0</td>\n",
              "      <td>257770.0</td>\n",
              "      <td>233845.0</td>\n",
              "      <td>241148.0</td>\n",
              "      <td>170774.0</td>\n",
              "      <td>238500</td>\n",
              "    </tr>\n",
              "    <tr>\n",
              "      <th>2017-06-04</th>\n",
              "      <td>153096.0</td>\n",
              "      <td>365900.0</td>\n",
              "      <td>307176.0</td>\n",
              "      <td>291647.0</td>\n",
              "      <td>246551.0</td>\n",
              "      <td>198350.0</td>\n",
              "      <td>138000</td>\n",
              "    </tr>\n",
              "    <tr>\n",
              "      <th>2017-08-05</th>\n",
              "      <td>226890.0</td>\n",
              "      <td>231100.0</td>\n",
              "      <td>273817.0</td>\n",
              "      <td>287274.0</td>\n",
              "      <td>258753.0</td>\n",
              "      <td>141579.0</td>\n",
              "      <td>204500</td>\n",
              "    </tr>\n",
              "    <tr>\n",
              "      <th>2017-09-06</th>\n",
              "      <td>146934.0</td>\n",
              "      <td>231100.0</td>\n",
              "      <td>265518.0</td>\n",
              "      <td>275992.0</td>\n",
              "      <td>257353.0</td>\n",
              "      <td>88693.0</td>\n",
              "      <td>153800</td>\n",
              "    </tr>\n",
              "    <tr>\n",
              "      <th>2017-09-05</th>\n",
              "      <td>240208.0</td>\n",
              "      <td>29500.0</td>\n",
              "      <td>244293.0</td>\n",
              "      <td>193861.0</td>\n",
              "      <td>224146.0</td>\n",
              "      <td>108382.0</td>\n",
              "      <td>251100</td>\n",
              "    </tr>\n",
              "    <tr>\n",
              "      <th>2017-08-06</th>\n",
              "      <td>162463.0</td>\n",
              "      <td>29500.0</td>\n",
              "      <td>270365.0</td>\n",
              "      <td>260894.0</td>\n",
              "      <td>296827.0</td>\n",
              "      <td>170774.0</td>\n",
              "      <td>216400</td>\n",
              "    </tr>\n",
              "    <tr>\n",
              "      <th>2017-07-03</th>\n",
              "      <td>331986.0</td>\n",
              "      <td>473000.0</td>\n",
              "      <td>301448.0</td>\n",
              "      <td>301470.0</td>\n",
              "      <td>282361.0</td>\n",
              "      <td>157200.0</td>\n",
              "      <td>118200</td>\n",
              "    </tr>\n",
              "    <tr>\n",
              "      <th>2017-06-06</th>\n",
              "      <td>18968.0</td>\n",
              "      <td>221600.0</td>\n",
              "      <td>256501.0</td>\n",
              "      <td>159436.0</td>\n",
              "      <td>221690.0</td>\n",
              "      <td>186730.0</td>\n",
              "      <td>211700</td>\n",
              "    </tr>\n",
              "    <tr>\n",
              "      <th>2017-09-05</th>\n",
              "      <td>212182.0</td>\n",
              "      <td>231100.0</td>\n",
              "      <td>265637.0</td>\n",
              "      <td>272725.0</td>\n",
              "      <td>258890.0</td>\n",
              "      <td>108382.0</td>\n",
              "      <td>447400</td>\n",
              "    </tr>\n",
              "  </tbody>\n",
              "</table>\n",
              "</div>\n",
              "      <button class=\"colab-df-convert\" onclick=\"convertToInteractive('df-b6230502-5a43-40e5-91e7-c133f8230ccb')\"\n",
              "              title=\"Convert this dataframe to an interactive table.\"\n",
              "              style=\"display:none;\">\n",
              "        \n",
              "  <svg xmlns=\"http://www.w3.org/2000/svg\" height=\"24px\"viewBox=\"0 0 24 24\"\n",
              "       width=\"24px\">\n",
              "    <path d=\"M0 0h24v24H0V0z\" fill=\"none\"/>\n",
              "    <path d=\"M18.56 5.44l.94 2.06.94-2.06 2.06-.94-2.06-.94-.94-2.06-.94 2.06-2.06.94zm-11 1L8.5 8.5l.94-2.06 2.06-.94-2.06-.94L8.5 2.5l-.94 2.06-2.06.94zm10 10l.94 2.06.94-2.06 2.06-.94-2.06-.94-.94-2.06-.94 2.06-2.06.94z\"/><path d=\"M17.41 7.96l-1.37-1.37c-.4-.4-.92-.59-1.43-.59-.52 0-1.04.2-1.43.59L10.3 9.45l-7.72 7.72c-.78.78-.78 2.05 0 2.83L4 21.41c.39.39.9.59 1.41.59.51 0 1.02-.2 1.41-.59l7.78-7.78 2.81-2.81c.8-.78.8-2.07 0-2.86zM5.41 20L4 18.59l7.72-7.72 1.47 1.35L5.41 20z\"/>\n",
              "  </svg>\n",
              "      </button>\n",
              "      \n",
              "  <style>\n",
              "    .colab-df-container {\n",
              "      display:flex;\n",
              "      flex-wrap:wrap;\n",
              "      gap: 12px;\n",
              "    }\n",
              "\n",
              "    .colab-df-convert {\n",
              "      background-color: #E8F0FE;\n",
              "      border: none;\n",
              "      border-radius: 50%;\n",
              "      cursor: pointer;\n",
              "      display: none;\n",
              "      fill: #1967D2;\n",
              "      height: 32px;\n",
              "      padding: 0 0 0 0;\n",
              "      width: 32px;\n",
              "    }\n",
              "\n",
              "    .colab-df-convert:hover {\n",
              "      background-color: #E2EBFA;\n",
              "      box-shadow: 0px 1px 2px rgba(60, 64, 67, 0.3), 0px 1px 3px 1px rgba(60, 64, 67, 0.15);\n",
              "      fill: #174EA6;\n",
              "    }\n",
              "\n",
              "    [theme=dark] .colab-df-convert {\n",
              "      background-color: #3B4455;\n",
              "      fill: #D2E3FC;\n",
              "    }\n",
              "\n",
              "    [theme=dark] .colab-df-convert:hover {\n",
              "      background-color: #434B5C;\n",
              "      box-shadow: 0px 1px 3px 1px rgba(0, 0, 0, 0.15);\n",
              "      filter: drop-shadow(0px 1px 2px rgba(0, 0, 0, 0.3));\n",
              "      fill: #FFFFFF;\n",
              "    }\n",
              "  </style>\n",
              "\n",
              "      <script>\n",
              "        const buttonEl =\n",
              "          document.querySelector('#df-b6230502-5a43-40e5-91e7-c133f8230ccb button.colab-df-convert');\n",
              "        buttonEl.style.display =\n",
              "          google.colab.kernel.accessAllowed ? 'block' : 'none';\n",
              "\n",
              "        async function convertToInteractive(key) {\n",
              "          const element = document.querySelector('#df-b6230502-5a43-40e5-91e7-c133f8230ccb');\n",
              "          const dataTable =\n",
              "            await google.colab.kernel.invokeFunction('convertToInteractive',\n",
              "                                                     [key], {});\n",
              "          if (!dataTable) return;\n",
              "\n",
              "          const docLinkHtml = 'Like what you see? Visit the ' +\n",
              "            '<a target=\"_blank\" href=https://colab.research.google.com/notebooks/data_table.ipynb>data table notebook</a>'\n",
              "            + ' to learn more about interactive tables.';\n",
              "          element.innerHTML = '';\n",
              "          dataTable['output_type'] = 'display_data';\n",
              "          await google.colab.output.renderOutput(dataTable, element);\n",
              "          const docLink = document.createElement('div');\n",
              "          docLink.innerHTML = docLinkHtml;\n",
              "          element.appendChild(docLink);\n",
              "        }\n",
              "      </script>\n",
              "    </div>\n",
              "  </div>\n",
              "  "
            ]
          },
          "metadata": {},
          "execution_count": 67
        }
      ]
    },
    {
      "cell_type": "code",
      "source": [
        "models_report = {\n",
        "    'Linear Regression': mean_absolute_error(y_test, lr_pred),\n",
        "    'Decision Tree': mean_absolute_error(y_test, dt_pred),\n",
        "    'Random Forest': mean_absolute_error(y_test, rf_pred),\n",
        "    'XGBoost': mean_absolute_error(y_test, xgb_pred),\n",
        "    'CatBoost': mean_absolute_error(y_test, cat_pred),\n",
        "    'FbProphet': mean_absolute_error(y_test, np.array(prophet_pred['yhat'])),   \n",
        "}\n",
        "models = list(models_report.keys())\n",
        "performance = list(models_report.values())\n",
        "plt.figure(figsize = (15,8))\n",
        "plt.title(\"Mean Absolute error of Models\")\n",
        "plt.bar(range(len(models_report)), performance, tick_label= models)\n",
        "plt.show()"
      ],
      "metadata": {
        "colab": {
          "base_uri": "https://localhost:8080/",
          "height": 505
        },
        "id": "VcijtdyGBax6",
        "outputId": "7af8ab9c-80ef-47ec-9205-40ffb78f15b0"
      },
      "execution_count": 76,
      "outputs": [
        {
          "output_type": "display_data",
          "data": {
            "text/plain": [
              "<Figure size 1080x576 with 1 Axes>"
            ],
            "image/png": "[encoded data removed]"
          },
          "metadata": {}
        }
      ]
    }
  ]
}